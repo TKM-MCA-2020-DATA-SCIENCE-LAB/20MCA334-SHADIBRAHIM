{
  "nbformat": 4,
  "nbformat_minor": 0,
  "metadata": {
    "colab": {
      "name": "Feed_Forward_network.ipynb",
      "provenance": []
    },
    "kernelspec": {
      "name": "python3",
      "display_name": "Python 3"
    },
    "language_info": {
      "name": "python"
    }
  },
  "cells": [
    {
      "cell_type": "code",
      "execution_count": null,
      "metadata": {
        "id": "Vlkit2Uajv_o"
      },
      "outputs": [],
      "source": [
        "import keras\n",
        "from  keras.datasets import mnist\n",
        "from keras.models import Sequential\n",
        "from keras.layers import Dense\n",
        "from tensorflow.keras.optimizers import SGD\n",
        "from matplotlib import pyplot as plt"
      ]
    },
    {
      "cell_type": "code",
      "source": [
        "(x_train,y_train),(x_valid,y_valid)=mnist.load_data()"
      ],
      "metadata": {
        "id": "jZ8h_AvBoZZJ",
        "colab": {
          "base_uri": "https://localhost:8080/"
        },
        "outputId": "2e8515d0-00f5-4df9-e211-a0dc319b3624"
      },
      "execution_count": null,
      "outputs": [
        {
          "output_type": "stream",
          "name": "stdout",
          "text": [
            "Downloading data from https://storage.googleapis.com/tensorflow/tf-keras-datasets/mnist.npz\n",
            "11493376/11490434 [==============================] - 0s 0us/step\n",
            "11501568/11490434 [==============================] - 0s 0us/step\n"
          ]
        }
      ]
    },
    {
      "cell_type": "code",
      "source": [
        "type(x_train)"
      ],
      "metadata": {
        "colab": {
          "base_uri": "https://localhost:8080/"
        },
        "id": "8sPRI5rlotoh",
        "outputId": "5b2566bd-80a9-45dc-b948-d6695ef8cfad"
      },
      "execution_count": null,
      "outputs": [
        {
          "output_type": "execute_result",
          "data": {
            "text/plain": [
              "numpy.ndarray"
            ]
          },
          "metadata": {},
          "execution_count": 5
        }
      ]
    },
    {
      "cell_type": "code",
      "source": [
        "x_train.shape"
      ],
      "metadata": {
        "colab": {
          "base_uri": "https://localhost:8080/"
        },
        "id": "h1snS5wSo3Yp",
        "outputId": "4ba7a12f-e8dd-46e1-ca01-c1f06ee735c1"
      },
      "execution_count": null,
      "outputs": [
        {
          "output_type": "execute_result",
          "data": {
            "text/plain": [
              "(60000, 28, 28)"
            ]
          },
          "metadata": {},
          "execution_count": 6
        }
      ]
    },
    {
      "cell_type": "code",
      "source": [
        "y_train.shape"
      ],
      "metadata": {
        "colab": {
          "base_uri": "https://localhost:8080/"
        },
        "id": "Fv2I6j6To636",
        "outputId": "6629b292-9a8c-4e59-b99d-67a5d9398529"
      },
      "execution_count": null,
      "outputs": [
        {
          "output_type": "execute_result",
          "data": {
            "text/plain": [
              "(60000,)"
            ]
          },
          "metadata": {},
          "execution_count": 7
        }
      ]
    },
    {
      "cell_type": "code",
      "source": [
        "y_train[0:12]"
      ],
      "metadata": {
        "colab": {
          "base_uri": "https://localhost:8080/"
        },
        "id": "3UMw2e7Yo-fZ",
        "outputId": "3cfdb167-46ff-4d1b-d25f-6e08039d4b54"
      },
      "execution_count": null,
      "outputs": [
        {
          "output_type": "execute_result",
          "data": {
            "text/plain": [
              "array([5, 0, 4, 1, 9, 2, 1, 3, 1, 4, 3, 5], dtype=uint8)"
            ]
          },
          "metadata": {},
          "execution_count": 8
        }
      ]
    },
    {
      "cell_type": "code",
      "source": [
        "plt.figure(figsize=(5,5))\n",
        "for k in range(20):\n",
        "  plt.subplot(10,2,k+1)\n",
        "  plt.imshow(x_train[k],cmap='Greys')\n",
        "  plt.axis('off')\n",
        "plt.show()"
      ],
      "metadata": {
        "colab": {
          "base_uri": "https://localhost:8080/",
          "height": 303
        },
        "id": "RmCDVW0spChp",
        "outputId": "7c1958f9-3b67-4e35-f700-c38040117ef7"
      },
      "execution_count": null,
      "outputs": [
        {
          "output_type": "display_data",
          "data": {
            "image/png": "[encoded data removed]",
            "text/plain": [
              "<Figure size 360x360 with 20 Axes>"
            ]
          },
          "metadata": {
            "needs_background": "light"
          }
        }
      ]
    },
    {
      "cell_type": "code",
      "source": [
        "plt.imshow(x_valid[0],cmap='Greys')"
      ],
      "metadata": {
        "colab": {
          "base_uri": "https://localhost:8080/",
          "height": 282
        },
        "id": "Tp5wiE7Vply7",
        "outputId": "3a702678-3f29-4395-a675-0ffd41c541dc"
      },
      "execution_count": null,
      "outputs": [
        {
          "output_type": "execute_result",
          "data": {
            "text/plain": [
              "<matplotlib.image.AxesImage at 0x7fc768826910>"
            ]
          },
          "metadata": {},
          "execution_count": 10
        },
        {
          "output_type": "display_data",
          "data": {
            "image/png": "[encoded data removed]",
            "text/plain": [
              "<Figure size 432x288 with 1 Axes>"
            ]
          },
          "metadata": {
            "needs_background": "light"
          }
        }
      ]
    },
    {
      "cell_type": "code",
      "source": [
        "x_valid[0]"
      ],
      "metadata": {
        "colab": {
          "base_uri": "https://localhost:8080/"
        },
        "id": "zed4rBbnqVBq",
        "outputId": "85419389-36e3-4f8a-e1b4-878993b26387"
      },
      "execution_count": null,
      "outputs": [
        {
          "output_type": "execute_result",
          "data": {
            "text/plain": [
              "array([[  0,   0,   0,   0,   0,   0,   0,   0,   0,   0,   0,   0,   0,\n",
              "          0,   0,   0,   0,   0,   0,   0,   0,   0,   0,   0,   0,   0,\n",
              "          0,   0],\n",
              "       [  0,   0,   0,   0,   0,   0,   0,   0,   0,   0,   0,   0,   0,\n",
              "          0,   0,   0,   0,   0,   0,   0,   0,   0,   0,   0,   0,   0,\n",
              "          0,   0],\n",
              "       [  0,   0,   0,   0,   0,   0,   0,   0,   0,   0,   0,   0,   0,\n",
              "          0,   0,   0,   0,   0,   0,   0,   0,   0,   0,   0,   0,   0,\n",
              "          0,   0],\n",
              "       [  0,   0,   0,   0,   0,   0,   0,   0,   0,   0,   0,   0,   0,\n",
              "          0,   0,   0,   0,   0,   0,   0,   0,   0,   0,   0,   0,   0,\n",
              "          0,   0],\n",
              "       [  0,   0,   0,   0,   0,   0,   0,   0,   0,   0,   0,   0,   0,\n",
              "          0,   0,   0,   0,   0,   0,   0,   0,   0,   0,   0,   0,   0,\n",
              "          0,   0],\n",
              "       [  0,   0,   0,   0,   0,   0,   0,   0,   0,   0,   0,   0,   0,\n",
              "          0,   0,   0,   0,   0,   0,   0,   0,   0,   0,   0,   0,   0,\n",
              "          0,   0],\n",
              "       [  0,   0,   0,   0,   0,   0,   0,   0,   0,   0,   0,   0,   0,\n",
              "          0,   0,   0,   0,   0,   0,   0,   0,   0,   0,   0,   0,   0,\n",
              "          0,   0],\n",
              "       [  0,   0,   0,   0,   0,   0,  84, 185, 159, 151,  60,  36,   0,\n",
              "          0,   0,   0,   0,   0,   0,   0,   0,   0,   0,   0,   0,   0,\n",
              "          0,   0],\n",
              "       [  0,   0,   0,   0,   0,   0, 222, 254, 254, 254, 254, 241, 198,\n",
              "        198, 198, 198, 198, 198, 198, 198, 170,  52,   0,   0,   0,   0,\n",
              "          0,   0],\n",
              "       [  0,   0,   0,   0,   0,   0,  67, 114,  72, 114, 163, 227, 254,\n",
              "        225, 254, 254, 254, 250, 229, 254, 254, 140,   0,   0,   0,   0,\n",
              "          0,   0],\n",
              "       [  0,   0,   0,   0,   0,   0,   0,   0,   0,   0,   0,  17,  66,\n",
              "         14,  67,  67,  67,  59,  21, 236, 254, 106,   0,   0,   0,   0,\n",
              "          0,   0],\n",
              "       [  0,   0,   0,   0,   0,   0,   0,   0,   0,   0,   0,   0,   0,\n",
              "          0,   0,   0,   0,   0,  83, 253, 209,  18,   0,   0,   0,   0,\n",
              "          0,   0],\n",
              "       [  0,   0,   0,   0,   0,   0,   0,   0,   0,   0,   0,   0,   0,\n",
              "          0,   0,   0,   0,  22, 233, 255,  83,   0,   0,   0,   0,   0,\n",
              "          0,   0],\n",
              "       [  0,   0,   0,   0,   0,   0,   0,   0,   0,   0,   0,   0,   0,\n",
              "          0,   0,   0,   0, 129, 254, 238,  44,   0,   0,   0,   0,   0,\n",
              "          0,   0],\n",
              "       [  0,   0,   0,   0,   0,   0,   0,   0,   0,   0,   0,   0,   0,\n",
              "          0,   0,   0,  59, 249, 254,  62,   0,   0,   0,   0,   0,   0,\n",
              "          0,   0],\n",
              "       [  0,   0,   0,   0,   0,   0,   0,   0,   0,   0,   0,   0,   0,\n",
              "          0,   0,   0, 133, 254, 187,   5,   0,   0,   0,   0,   0,   0,\n",
              "          0,   0],\n",
              "       [  0,   0,   0,   0,   0,   0,   0,   0,   0,   0,   0,   0,   0,\n",
              "          0,   0,   9, 205, 248,  58,   0,   0,   0,   0,   0,   0,   0,\n",
              "          0,   0],\n",
              "       [  0,   0,   0,   0,   0,   0,   0,   0,   0,   0,   0,   0,   0,\n",
              "          0,   0, 126, 254, 182,   0,   0,   0,   0,   0,   0,   0,   0,\n",
              "          0,   0],\n",
              "       [  0,   0,   0,   0,   0,   0,   0,   0,   0,   0,   0,   0,   0,\n",
              "          0,  75, 251, 240,  57,   0,   0,   0,   0,   0,   0,   0,   0,\n",
              "          0,   0],\n",
              "       [  0,   0,   0,   0,   0,   0,   0,   0,   0,   0,   0,   0,   0,\n",
              "         19, 221, 254, 166,   0,   0,   0,   0,   0,   0,   0,   0,   0,\n",
              "          0,   0],\n",
              "       [  0,   0,   0,   0,   0,   0,   0,   0,   0,   0,   0,   0,   3,\n",
              "        203, 254, 219,  35,   0,   0,   0,   0,   0,   0,   0,   0,   0,\n",
              "          0,   0],\n",
              "       [  0,   0,   0,   0,   0,   0,   0,   0,   0,   0,   0,   0,  38,\n",
              "        254, 254,  77,   0,   0,   0,   0,   0,   0,   0,   0,   0,   0,\n",
              "          0,   0],\n",
              "       [  0,   0,   0,   0,   0,   0,   0,   0,   0,   0,   0,  31, 224,\n",
              "        254, 115,   1,   0,   0,   0,   0,   0,   0,   0,   0,   0,   0,\n",
              "          0,   0],\n",
              "       [  0,   0,   0,   0,   0,   0,   0,   0,   0,   0,   0, 133, 254,\n",
              "        254,  52,   0,   0,   0,   0,   0,   0,   0,   0,   0,   0,   0,\n",
              "          0,   0],\n",
              "       [  0,   0,   0,   0,   0,   0,   0,   0,   0,   0,  61, 242, 254,\n",
              "        254,  52,   0,   0,   0,   0,   0,   0,   0,   0,   0,   0,   0,\n",
              "          0,   0],\n",
              "       [  0,   0,   0,   0,   0,   0,   0,   0,   0,   0, 121, 254, 254,\n",
              "        219,  40,   0,   0,   0,   0,   0,   0,   0,   0,   0,   0,   0,\n",
              "          0,   0],\n",
              "       [  0,   0,   0,   0,   0,   0,   0,   0,   0,   0, 121, 254, 207,\n",
              "         18,   0,   0,   0,   0,   0,   0,   0,   0,   0,   0,   0,   0,\n",
              "          0,   0],\n",
              "       [  0,   0,   0,   0,   0,   0,   0,   0,   0,   0,   0,   0,   0,\n",
              "          0,   0,   0,   0,   0,   0,   0,   0,   0,   0,   0,   0,   0,\n",
              "          0,   0]], dtype=uint8)"
            ]
          },
          "metadata": {},
          "execution_count": 11
        }
      ]
    },
    {
      "cell_type": "markdown",
      "source": [
        "preprocess data"
      ],
      "metadata": {
        "id": "kJagJ-zkrS7a"
      }
    },
    {
      "cell_type": "code",
      "source": [
        "x_train=x_train.reshape(60000,784).astype('float32')\n",
        "x_valid=x_valid.reshape(10000,784).astype('float32')"
      ],
      "metadata": {
        "id": "zA3NVdl3rVOi"
      },
      "execution_count": null,
      "outputs": []
    },
    {
      "cell_type": "code",
      "source": [
        "x_train/=255\n",
        "x_valid/=255"
      ],
      "metadata": {
        "id": "UFqqK5x-rrPB"
      },
      "execution_count": null,
      "outputs": []
    },
    {
      "cell_type": "code",
      "source": [
        "x_valid[0]"
      ],
      "metadata": {
        "colab": {
          "base_uri": "https://localhost:8080/"
        },
        "id": "7LqS0rcFryYh",
        "outputId": "06c2bce0-f41e-4340-8500-29438f5a7a38"
      },
      "execution_count": null,
      "outputs": [
        {
          "output_type": "execute_result",
          "data": {
            "text/plain": [
              "array([0.        , 0.        , 0.        , 0.        , 0.        ,\n",
              "       0.        , 0.        , 0.        , 0.        , 0.        ,\n",
              "       0.        , 0.        , 0.        , 0.        , 0.        ,\n",
              "       0.        , 0.        , 0.        , 0.        , 0.        ,\n",
              "       0.        , 0.        , 0.        , 0.        , 0.        ,\n",
              "       0.        , 0.        , 0.        , 0.        , 0.        ,\n",
              "       0.        , 0.        , 0.        , 0.        , 0.        ,\n",
              "       0.        , 0.        , 0.        , 0.        , 0.        ,\n",
              "       0.        , 0.        , 0.        , 0.        , 0.        ,\n",
              "       0.        , 0.        , 0.        , 0.        , 0.        ,\n",
              "       0.        , 0.        , 0.        , 0.        , 0.        ,\n",
              "       0.        , 0.        , 0.        , 0.        , 0.        ,\n",
              "       0.        , 0.        , 0.        , 0.        , 0.        ,\n",
              "       0.        , 0.        , 0.        , 0.        , 0.        ,\n",
              "       0.        , 0.        , 0.        , 0.        , 0.        ,\n",
              "       0.        , 0.        , 0.        , 0.        , 0.        ,\n",
              "       0.        , 0.        , 0.        , 0.        , 0.        ,\n",
              "       0.        , 0.        , 0.        , 0.        , 0.        ,\n",
              "       0.        , 0.        , 0.        , 0.        , 0.        ,\n",
              "       0.        , 0.        , 0.        , 0.        , 0.        ,\n",
              "       0.        , 0.        , 0.        , 0.        , 0.        ,\n",
              "       0.        , 0.        , 0.        , 0.        , 0.        ,\n",
              "       0.        , 0.        , 0.        , 0.        , 0.        ,\n",
              "       0.        , 0.        , 0.        , 0.        , 0.        ,\n",
              "       0.        , 0.        , 0.        , 0.        , 0.        ,\n",
              "       0.        , 0.        , 0.        , 0.        , 0.        ,\n",
              "       0.        , 0.        , 0.        , 0.        , 0.        ,\n",
              "       0.        , 0.        , 0.        , 0.        , 0.        ,\n",
              "       0.        , 0.        , 0.        , 0.        , 0.        ,\n",
              "       0.        , 0.        , 0.        , 0.        , 0.        ,\n",
              "       0.        , 0.        , 0.        , 0.        , 0.        ,\n",
              "       0.        , 0.        , 0.        , 0.        , 0.        ,\n",
              "       0.        , 0.        , 0.        , 0.        , 0.        ,\n",
              "       0.        , 0.        , 0.        , 0.        , 0.        ,\n",
              "       0.        , 0.        , 0.        , 0.        , 0.        ,\n",
              "       0.        , 0.        , 0.        , 0.        , 0.        ,\n",
              "       0.        , 0.        , 0.        , 0.        , 0.        ,\n",
              "       0.        , 0.        , 0.        , 0.        , 0.        ,\n",
              "       0.        , 0.        , 0.        , 0.        , 0.        ,\n",
              "       0.        , 0.        , 0.        , 0.        , 0.        ,\n",
              "       0.        , 0.        , 0.32941177, 0.7254902 , 0.62352943,\n",
              "       0.5921569 , 0.23529412, 0.14117648, 0.        , 0.        ,\n",
              "       0.        , 0.        , 0.        , 0.        , 0.        ,\n",
              "       0.        , 0.        , 0.        , 0.        , 0.        ,\n",
              "       0.        , 0.        , 0.        , 0.        , 0.        ,\n",
              "       0.        , 0.        , 0.        , 0.        , 0.        ,\n",
              "       0.87058824, 0.99607843, 0.99607843, 0.99607843, 0.99607843,\n",
              "       0.94509804, 0.7764706 , 0.7764706 , 0.7764706 , 0.7764706 ,\n",
              "       0.7764706 , 0.7764706 , 0.7764706 , 0.7764706 , 0.6666667 ,\n",
              "       0.20392157, 0.        , 0.        , 0.        , 0.        ,\n",
              "       0.        , 0.        , 0.        , 0.        , 0.        ,\n",
              "       0.        , 0.        , 0.        , 0.2627451 , 0.44705883,\n",
              "       0.28235295, 0.44705883, 0.6392157 , 0.8901961 , 0.99607843,\n",
              "       0.88235295, 0.99607843, 0.99607843, 0.99607843, 0.98039216,\n",
              "       0.8980392 , 0.99607843, 0.99607843, 0.54901963, 0.        ,\n",
              "       0.        , 0.        , 0.        , 0.        , 0.        ,\n",
              "       0.        , 0.        , 0.        , 0.        , 0.        ,\n",
              "       0.        , 0.        , 0.        , 0.        , 0.        ,\n",
              "       0.        , 0.06666667, 0.25882354, 0.05490196, 0.2627451 ,\n",
              "       0.2627451 , 0.2627451 , 0.23137255, 0.08235294, 0.9254902 ,\n",
              "       0.99607843, 0.41568628, 0.        , 0.        , 0.        ,\n",
              "       0.        , 0.        , 0.        , 0.        , 0.        ,\n",
              "       0.        , 0.        , 0.        , 0.        , 0.        ,\n",
              "       0.        , 0.        , 0.        , 0.        , 0.        ,\n",
              "       0.        , 0.        , 0.        , 0.        , 0.        ,\n",
              "       0.        , 0.3254902 , 0.99215686, 0.81960785, 0.07058824,\n",
              "       0.        , 0.        , 0.        , 0.        , 0.        ,\n",
              "       0.        , 0.        , 0.        , 0.        , 0.        ,\n",
              "       0.        , 0.        , 0.        , 0.        , 0.        ,\n",
              "       0.        , 0.        , 0.        , 0.        , 0.        ,\n",
              "       0.        , 0.        , 0.        , 0.08627451, 0.9137255 ,\n",
              "       1.        , 0.3254902 , 0.        , 0.        , 0.        ,\n",
              "       0.        , 0.        , 0.        , 0.        , 0.        ,\n",
              "       0.        , 0.        , 0.        , 0.        , 0.        ,\n",
              "       0.        , 0.        , 0.        , 0.        , 0.        ,\n",
              "       0.        , 0.        , 0.        , 0.        , 0.        ,\n",
              "       0.        , 0.5058824 , 0.99607843, 0.93333334, 0.17254902,\n",
              "       0.        , 0.        , 0.        , 0.        , 0.        ,\n",
              "       0.        , 0.        , 0.        , 0.        , 0.        ,\n",
              "       0.        , 0.        , 0.        , 0.        , 0.        ,\n",
              "       0.        , 0.        , 0.        , 0.        , 0.        ,\n",
              "       0.        , 0.        , 0.        , 0.23137255, 0.9764706 ,\n",
              "       0.99607843, 0.24313726, 0.        , 0.        , 0.        ,\n",
              "       0.        , 0.        , 0.        , 0.        , 0.        ,\n",
              "       0.        , 0.        , 0.        , 0.        , 0.        ,\n",
              "       0.        , 0.        , 0.        , 0.        , 0.        ,\n",
              "       0.        , 0.        , 0.        , 0.        , 0.        ,\n",
              "       0.        , 0.52156866, 0.99607843, 0.73333335, 0.01960784,\n",
              "       0.        , 0.        , 0.        , 0.        , 0.        ,\n",
              "       0.        , 0.        , 0.        , 0.        , 0.        ,\n",
              "       0.        , 0.        , 0.        , 0.        , 0.        ,\n",
              "       0.        , 0.        , 0.        , 0.        , 0.        ,\n",
              "       0.        , 0.        , 0.        , 0.03529412, 0.8039216 ,\n",
              "       0.972549  , 0.22745098, 0.        , 0.        , 0.        ,\n",
              "       0.        , 0.        , 0.        , 0.        , 0.        ,\n",
              "       0.        , 0.        , 0.        , 0.        , 0.        ,\n",
              "       0.        , 0.        , 0.        , 0.        , 0.        ,\n",
              "       0.        , 0.        , 0.        , 0.        , 0.        ,\n",
              "       0.        , 0.49411765, 0.99607843, 0.7137255 , 0.        ,\n",
              "       0.        , 0.        , 0.        , 0.        , 0.        ,\n",
              "       0.        , 0.        , 0.        , 0.        , 0.        ,\n",
              "       0.        , 0.        , 0.        , 0.        , 0.        ,\n",
              "       0.        , 0.        , 0.        , 0.        , 0.        ,\n",
              "       0.        , 0.        , 0.        , 0.29411766, 0.9843137 ,\n",
              "       0.9411765 , 0.22352941, 0.        , 0.        , 0.        ,\n",
              "       0.        , 0.        , 0.        , 0.        , 0.        ,\n",
              "       0.        , 0.        , 0.        , 0.        , 0.        ,\n",
              "       0.        , 0.        , 0.        , 0.        , 0.        ,\n",
              "       0.        , 0.        , 0.        , 0.        , 0.        ,\n",
              "       0.07450981, 0.8666667 , 0.99607843, 0.6509804 , 0.        ,\n",
              "       0.        , 0.        , 0.        , 0.        , 0.        ,\n",
              "       0.        , 0.        , 0.        , 0.        , 0.        ,\n",
              "       0.        , 0.        , 0.        , 0.        , 0.        ,\n",
              "       0.        , 0.        , 0.        , 0.        , 0.        ,\n",
              "       0.        , 0.        , 0.01176471, 0.79607844, 0.99607843,\n",
              "       0.85882354, 0.13725491, 0.        , 0.        , 0.        ,\n",
              "       0.        , 0.        , 0.        , 0.        , 0.        ,\n",
              "       0.        , 0.        , 0.        , 0.        , 0.        ,\n",
              "       0.        , 0.        , 0.        , 0.        , 0.        ,\n",
              "       0.        , 0.        , 0.        , 0.        , 0.        ,\n",
              "       0.14901961, 0.99607843, 0.99607843, 0.3019608 , 0.        ,\n",
              "       0.        , 0.        , 0.        , 0.        , 0.        ,\n",
              "       0.        , 0.        , 0.        , 0.        , 0.        ,\n",
              "       0.        , 0.        , 0.        , 0.        , 0.        ,\n",
              "       0.        , 0.        , 0.        , 0.        , 0.        ,\n",
              "       0.        , 0.        , 0.12156863, 0.8784314 , 0.99607843,\n",
              "       0.4509804 , 0.00392157, 0.        , 0.        , 0.        ,\n",
              "       0.        , 0.        , 0.        , 0.        , 0.        ,\n",
              "       0.        , 0.        , 0.        , 0.        , 0.        ,\n",
              "       0.        , 0.        , 0.        , 0.        , 0.        ,\n",
              "       0.        , 0.        , 0.        , 0.        , 0.        ,\n",
              "       0.52156866, 0.99607843, 0.99607843, 0.20392157, 0.        ,\n",
              "       0.        , 0.        , 0.        , 0.        , 0.        ,\n",
              "       0.        , 0.        , 0.        , 0.        , 0.        ,\n",
              "       0.        , 0.        , 0.        , 0.        , 0.        ,\n",
              "       0.        , 0.        , 0.        , 0.        , 0.        ,\n",
              "       0.        , 0.        , 0.23921569, 0.9490196 , 0.99607843,\n",
              "       0.99607843, 0.20392157, 0.        , 0.        , 0.        ,\n",
              "       0.        , 0.        , 0.        , 0.        , 0.        ,\n",
              "       0.        , 0.        , 0.        , 0.        , 0.        ,\n",
              "       0.        , 0.        , 0.        , 0.        , 0.        ,\n",
              "       0.        , 0.        , 0.        , 0.        , 0.        ,\n",
              "       0.4745098 , 0.99607843, 0.99607843, 0.85882354, 0.15686275,\n",
              "       0.        , 0.        , 0.        , 0.        , 0.        ,\n",
              "       0.        , 0.        , 0.        , 0.        , 0.        ,\n",
              "       0.        , 0.        , 0.        , 0.        , 0.        ,\n",
              "       0.        , 0.        , 0.        , 0.        , 0.        ,\n",
              "       0.        , 0.        , 0.        , 0.4745098 , 0.99607843,\n",
              "       0.8117647 , 0.07058824, 0.        , 0.        , 0.        ,\n",
              "       0.        , 0.        , 0.        , 0.        , 0.        ,\n",
              "       0.        , 0.        , 0.        , 0.        , 0.        ,\n",
              "       0.        , 0.        , 0.        , 0.        , 0.        ,\n",
              "       0.        , 0.        , 0.        , 0.        , 0.        ,\n",
              "       0.        , 0.        , 0.        , 0.        , 0.        ,\n",
              "       0.        , 0.        , 0.        , 0.        , 0.        ,\n",
              "       0.        , 0.        , 0.        , 0.        , 0.        ,\n",
              "       0.        , 0.        , 0.        , 0.        ], dtype=float32)"
            ]
          },
          "metadata": {},
          "execution_count": 14
        }
      ]
    },
    {
      "cell_type": "code",
      "source": [
        "from keras import utils as np_utils\n",
        "n_classes=10\n",
        "y_train=keras.utils.np_utils.to_categorical(y_train,n_classes)\n",
        "y_valid=keras.utils.np_utils.to_categorical(y_valid,n_classes)"
      ],
      "metadata": {
        "id": "qDDE7hw3vmpT"
      },
      "execution_count": null,
      "outputs": []
    },
    {
      "cell_type": "code",
      "source": [
        "y_valid[0]"
      ],
      "metadata": {
        "colab": {
          "base_uri": "https://localhost:8080/"
        },
        "id": "HcAferunwaD5",
        "outputId": "586c1180-5a16-4ea1-e149-4adbeb281ee9"
      },
      "execution_count": null,
      "outputs": [
        {
          "output_type": "execute_result",
          "data": {
            "text/plain": [
              "array([0., 0., 0., 0., 0., 0., 0., 1., 0., 0.], dtype=float32)"
            ]
          },
          "metadata": {},
          "execution_count": 16
        }
      ]
    },
    {
      "cell_type": "code",
      "source": [
        "model=Sequential()"
      ],
      "metadata": {
        "id": "bxOi0FM-7U49"
      },
      "execution_count": null,
      "outputs": []
    },
    {
      "cell_type": "markdown",
      "source": [
        "Neurons in dense layer receive output from previous layers"
      ],
      "metadata": {
        "id": "k_LZCLeM7qEu"
      }
    },
    {
      "cell_type": "code",
      "source": [
        "model.add(Dense(64,activation='sigmoid',input_shape=(784,)))"
      ],
      "metadata": {
        "id": "V9MMNFZT7ozl"
      },
      "execution_count": null,
      "outputs": []
    },
    {
      "cell_type": "code",
      "source": [
        "model.add(Dense(10,activation='softmax'))"
      ],
      "metadata": {
        "id": "wu0BGno_8Myl"
      },
      "execution_count": null,
      "outputs": []
    },
    {
      "cell_type": "code",
      "source": [
        "model.summary()"
      ],
      "metadata": {
        "colab": {
          "base_uri": "https://localhost:8080/"
        },
        "id": "rFJ1SHM78XZy",
        "outputId": "85b04f61-df84-4d95-a566-30faf7508da0"
      },
      "execution_count": null,
      "outputs": [
        {
          "output_type": "stream",
          "name": "stdout",
          "text": [
            "Model: \"sequential\"\n",
            "_________________________________________________________________\n",
            " Layer (type)                Output Shape              Param #   \n",
            "=================================================================\n",
            " dense (Dense)               (None, 64)                50240     \n",
            "                                                                 \n",
            " dense_1 (Dense)             (None, 10)                650       \n",
            "                                                                 \n",
            "=================================================================\n",
            "Total params: 50,890\n",
            "Trainable params: 50,890\n",
            "Non-trainable params: 0\n",
            "_________________________________________________________________\n"
          ]
        }
      ]
    },
    {
      "cell_type": "code",
      "source": [
        "model.compile(loss='mean_squared_error',optimizer=SGD(learning_rate=0.01),metrics=['accuracy'])"
      ],
      "metadata": {
        "id": "aZHAB_5t8c2C"
      },
      "execution_count": null,
      "outputs": []
    },
    {
      "cell_type": "code",
      "source": [
        "history=model.fit(x_train,y_train,batch_size=128,epochs=90,verbose=2)"
      ],
      "metadata": {
        "colab": {
          "base_uri": "https://localhost:8080/"
        },
        "id": "8uItfUQ681dt",
        "outputId": "96ee9a95-3244-4564-e269-43abe5f63a13"
      },
      "execution_count": null,
      "outputs": [
        {
          "output_type": "stream",
          "name": "stdout",
          "text": [
            "Epoch 1/90\n",
            "469/469 - 1s - loss: 0.0336 - accuracy: 0.8287 - 954ms/epoch - 2ms/step\n",
            "Epoch 2/90\n",
            "469/469 - 1s - loss: 0.0334 - accuracy: 0.8301 - 956ms/epoch - 2ms/step\n",
            "Epoch 3/90\n",
            "469/469 - 1s - loss: 0.0333 - accuracy: 0.8309 - 1000ms/epoch - 2ms/step\n",
            "Epoch 4/90\n",
            "469/469 - 1s - loss: 0.0331 - accuracy: 0.8318 - 965ms/epoch - 2ms/step\n",
            "Epoch 5/90\n",
            "469/469 - 1s - loss: 0.0330 - accuracy: 0.8328 - 980ms/epoch - 2ms/step\n",
            "Epoch 6/90\n",
            "469/469 - 1s - loss: 0.0328 - accuracy: 0.8337 - 984ms/epoch - 2ms/step\n",
            "Epoch 7/90\n",
            "469/469 - 1s - loss: 0.0327 - accuracy: 0.8348 - 1s/epoch - 2ms/step\n",
            "Epoch 8/90\n",
            "469/469 - 1s - loss: 0.0325 - accuracy: 0.8353 - 989ms/epoch - 2ms/step\n",
            "Epoch 9/90\n",
            "469/469 - 1s - loss: 0.0324 - accuracy: 0.8360 - 971ms/epoch - 2ms/step\n",
            "Epoch 10/90\n",
            "469/469 - 1s - loss: 0.0322 - accuracy: 0.8370 - 972ms/epoch - 2ms/step\n",
            "Epoch 11/90\n",
            "469/469 - 1s - loss: 0.0321 - accuracy: 0.8378 - 989ms/epoch - 2ms/step\n",
            "Epoch 12/90\n",
            "469/469 - 1s - loss: 0.0319 - accuracy: 0.8389 - 957ms/epoch - 2ms/step\n",
            "Epoch 13/90\n",
            "469/469 - 1s - loss: 0.0318 - accuracy: 0.8396 - 964ms/epoch - 2ms/step\n",
            "Epoch 14/90\n",
            "469/469 - 1s - loss: 0.0316 - accuracy: 0.8405 - 950ms/epoch - 2ms/step\n",
            "Epoch 15/90\n",
            "469/469 - 1s - loss: 0.0315 - accuracy: 0.8413 - 961ms/epoch - 2ms/step\n",
            "Epoch 16/90\n",
            "469/469 - 1s - loss: 0.0313 - accuracy: 0.8421 - 996ms/epoch - 2ms/step\n",
            "Epoch 17/90\n",
            "469/469 - 1s - loss: 0.0312 - accuracy: 0.8428 - 971ms/epoch - 2ms/step\n",
            "Epoch 18/90\n",
            "469/469 - 1s - loss: 0.0311 - accuracy: 0.8435 - 982ms/epoch - 2ms/step\n",
            "Epoch 19/90\n",
            "469/469 - 1s - loss: 0.0309 - accuracy: 0.8442 - 951ms/epoch - 2ms/step\n",
            "Epoch 20/90\n",
            "469/469 - 1s - loss: 0.0308 - accuracy: 0.8452 - 940ms/epoch - 2ms/step\n",
            "Epoch 21/90\n",
            "469/469 - 1s - loss: 0.0306 - accuracy: 0.8458 - 974ms/epoch - 2ms/step\n",
            "Epoch 22/90\n",
            "469/469 - 1s - loss: 0.0305 - accuracy: 0.8465 - 960ms/epoch - 2ms/step\n",
            "Epoch 23/90\n",
            "469/469 - 1s - loss: 0.0304 - accuracy: 0.8470 - 993ms/epoch - 2ms/step\n",
            "Epoch 24/90\n",
            "469/469 - 1s - loss: 0.0303 - accuracy: 0.8475 - 963ms/epoch - 2ms/step\n",
            "Epoch 25/90\n",
            "469/469 - 1s - loss: 0.0301 - accuracy: 0.8480 - 956ms/epoch - 2ms/step\n",
            "Epoch 26/90\n",
            "469/469 - 1s - loss: 0.0300 - accuracy: 0.8486 - 974ms/epoch - 2ms/step\n",
            "Epoch 27/90\n",
            "469/469 - 1s - loss: 0.0299 - accuracy: 0.8494 - 965ms/epoch - 2ms/step\n",
            "Epoch 28/90\n",
            "469/469 - 1s - loss: 0.0297 - accuracy: 0.8498 - 985ms/epoch - 2ms/step\n",
            "Epoch 29/90\n",
            "469/469 - 1s - loss: 0.0296 - accuracy: 0.8504 - 990ms/epoch - 2ms/step\n",
            "Epoch 30/90\n",
            "469/469 - 1s - loss: 0.0295 - accuracy: 0.8508 - 990ms/epoch - 2ms/step\n",
            "Epoch 31/90\n",
            "469/469 - 1s - loss: 0.0294 - accuracy: 0.8512 - 961ms/epoch - 2ms/step\n",
            "Epoch 32/90\n",
            "469/469 - 1s - loss: 0.0293 - accuracy: 0.8515 - 983ms/epoch - 2ms/step\n",
            "Epoch 33/90\n",
            "469/469 - 1s - loss: 0.0291 - accuracy: 0.8520 - 966ms/epoch - 2ms/step\n",
            "Epoch 34/90\n",
            "469/469 - 1s - loss: 0.0290 - accuracy: 0.8524 - 987ms/epoch - 2ms/step\n",
            "Epoch 35/90\n",
            "469/469 - 1s - loss: 0.0289 - accuracy: 0.8531 - 976ms/epoch - 2ms/step\n",
            "Epoch 36/90\n",
            "469/469 - 1s - loss: 0.0288 - accuracy: 0.8535 - 954ms/epoch - 2ms/step\n",
            "Epoch 37/90\n",
            "469/469 - 1s - loss: 0.0287 - accuracy: 0.8540 - 971ms/epoch - 2ms/step\n",
            "Epoch 38/90\n",
            "469/469 - 1s - loss: 0.0286 - accuracy: 0.8543 - 961ms/epoch - 2ms/step\n",
            "Epoch 39/90\n",
            "469/469 - 1s - loss: 0.0285 - accuracy: 0.8547 - 984ms/epoch - 2ms/step\n",
            "Epoch 40/90\n",
            "469/469 - 1s - loss: 0.0283 - accuracy: 0.8550 - 972ms/epoch - 2ms/step\n",
            "Epoch 41/90\n",
            "469/469 - 1s - loss: 0.0282 - accuracy: 0.8556 - 970ms/epoch - 2ms/step\n",
            "Epoch 42/90\n",
            "469/469 - 1s - loss: 0.0281 - accuracy: 0.8561 - 969ms/epoch - 2ms/step\n",
            "Epoch 43/90\n",
            "469/469 - 1s - loss: 0.0280 - accuracy: 0.8565 - 1s/epoch - 2ms/step\n",
            "Epoch 44/90\n",
            "469/469 - 1s - loss: 0.0279 - accuracy: 0.8570 - 972ms/epoch - 2ms/step\n",
            "Epoch 45/90\n",
            "469/469 - 1s - loss: 0.0278 - accuracy: 0.8573 - 998ms/epoch - 2ms/step\n",
            "Epoch 46/90\n",
            "469/469 - 1s - loss: 0.0277 - accuracy: 0.8577 - 960ms/epoch - 2ms/step\n",
            "Epoch 47/90\n",
            "469/469 - 1s - loss: 0.0276 - accuracy: 0.8582 - 994ms/epoch - 2ms/step\n",
            "Epoch 48/90\n",
            "469/469 - 1s - loss: 0.0275 - accuracy: 0.8583 - 951ms/epoch - 2ms/step\n",
            "Epoch 49/90\n",
            "469/469 - 1s - loss: 0.0274 - accuracy: 0.8587 - 994ms/epoch - 2ms/step\n",
            "Epoch 50/90\n",
            "469/469 - 1s - loss: 0.0273 - accuracy: 0.8592 - 1s/epoch - 2ms/step\n",
            "Epoch 51/90\n",
            "469/469 - 1s - loss: 0.0272 - accuracy: 0.8595 - 986ms/epoch - 2ms/step\n",
            "Epoch 52/90\n",
            "469/469 - 1s - loss: 0.0271 - accuracy: 0.8597 - 984ms/epoch - 2ms/step\n",
            "Epoch 53/90\n",
            "469/469 - 1s - loss: 0.0270 - accuracy: 0.8600 - 972ms/epoch - 2ms/step\n",
            "Epoch 54/90\n",
            "469/469 - 1s - loss: 0.0269 - accuracy: 0.8604 - 1s/epoch - 2ms/step\n",
            "Epoch 55/90\n",
            "469/469 - 1s - loss: 0.0268 - accuracy: 0.8606 - 980ms/epoch - 2ms/step\n",
            "Epoch 56/90\n",
            "469/469 - 1s - loss: 0.0267 - accuracy: 0.8609 - 957ms/epoch - 2ms/step\n",
            "Epoch 57/90\n",
            "469/469 - 1s - loss: 0.0267 - accuracy: 0.8613 - 975ms/epoch - 2ms/step\n",
            "Epoch 58/90\n",
            "469/469 - 1s - loss: 0.0266 - accuracy: 0.8616 - 996ms/epoch - 2ms/step\n",
            "Epoch 59/90\n",
            "469/469 - 1s - loss: 0.0265 - accuracy: 0.8619 - 945ms/epoch - 2ms/step\n",
            "Epoch 60/90\n",
            "469/469 - 1s - loss: 0.0264 - accuracy: 0.8623 - 997ms/epoch - 2ms/step\n",
            "Epoch 61/90\n",
            "469/469 - 1s - loss: 0.0263 - accuracy: 0.8627 - 945ms/epoch - 2ms/step\n",
            "Epoch 62/90\n",
            "469/469 - 1s - loss: 0.0262 - accuracy: 0.8631 - 955ms/epoch - 2ms/step\n",
            "Epoch 63/90\n",
            "469/469 - 1s - loss: 0.0261 - accuracy: 0.8633 - 970ms/epoch - 2ms/step\n",
            "Epoch 64/90\n",
            "469/469 - 1s - loss: 0.0260 - accuracy: 0.8635 - 984ms/epoch - 2ms/step\n",
            "Epoch 65/90\n",
            "469/469 - 1s - loss: 0.0260 - accuracy: 0.8639 - 983ms/epoch - 2ms/step\n",
            "Epoch 66/90\n",
            "469/469 - 1s - loss: 0.0259 - accuracy: 0.8642 - 955ms/epoch - 2ms/step\n",
            "Epoch 67/90\n",
            "469/469 - 1s - loss: 0.0258 - accuracy: 0.8647 - 957ms/epoch - 2ms/step\n",
            "Epoch 68/90\n",
            "469/469 - 1s - loss: 0.0257 - accuracy: 0.8650 - 976ms/epoch - 2ms/step\n",
            "Epoch 69/90\n",
            "469/469 - 1s - loss: 0.0256 - accuracy: 0.8653 - 963ms/epoch - 2ms/step\n",
            "Epoch 70/90\n",
            "469/469 - 1s - loss: 0.0256 - accuracy: 0.8656 - 965ms/epoch - 2ms/step\n",
            "Epoch 71/90\n",
            "469/469 - 1s - loss: 0.0255 - accuracy: 0.8659 - 979ms/epoch - 2ms/step\n",
            "Epoch 72/90\n",
            "469/469 - 1s - loss: 0.0254 - accuracy: 0.8661 - 956ms/epoch - 2ms/step\n",
            "Epoch 73/90\n",
            "469/469 - 1s - loss: 0.0253 - accuracy: 0.8663 - 965ms/epoch - 2ms/step\n",
            "Epoch 74/90\n",
            "469/469 - 1s - loss: 0.0252 - accuracy: 0.8666 - 980ms/epoch - 2ms/step\n",
            "Epoch 75/90\n",
            "469/469 - 1s - loss: 0.0252 - accuracy: 0.8669 - 985ms/epoch - 2ms/step\n",
            "Epoch 76/90\n",
            "469/469 - 1s - loss: 0.0251 - accuracy: 0.8671 - 970ms/epoch - 2ms/step\n",
            "Epoch 77/90\n",
            "469/469 - 1s - loss: 0.0250 - accuracy: 0.8674 - 987ms/epoch - 2ms/step\n",
            "Epoch 78/90\n",
            "469/469 - 1s - loss: 0.0249 - accuracy: 0.8677 - 949ms/epoch - 2ms/step\n",
            "Epoch 79/90\n",
            "469/469 - 1s - loss: 0.0249 - accuracy: 0.8680 - 976ms/epoch - 2ms/step\n",
            "Epoch 80/90\n",
            "469/469 - 1s - loss: 0.0248 - accuracy: 0.8683 - 975ms/epoch - 2ms/step\n",
            "Epoch 81/90\n",
            "469/469 - 1s - loss: 0.0247 - accuracy: 0.8683 - 984ms/epoch - 2ms/step\n",
            "Epoch 82/90\n",
            "469/469 - 1s - loss: 0.0247 - accuracy: 0.8686 - 985ms/epoch - 2ms/step\n",
            "Epoch 83/90\n",
            "469/469 - 1s - loss: 0.0246 - accuracy: 0.8690 - 979ms/epoch - 2ms/step\n",
            "Epoch 84/90\n",
            "469/469 - 1s - loss: 0.0245 - accuracy: 0.8694 - 971ms/epoch - 2ms/step\n",
            "Epoch 85/90\n",
            "469/469 - 1s - loss: 0.0244 - accuracy: 0.8694 - 976ms/epoch - 2ms/step\n",
            "Epoch 86/90\n",
            "469/469 - 1s - loss: 0.0244 - accuracy: 0.8698 - 993ms/epoch - 2ms/step\n",
            "Epoch 87/90\n",
            "469/469 - 1s - loss: 0.0243 - accuracy: 0.8703 - 982ms/epoch - 2ms/step\n",
            "Epoch 88/90\n",
            "469/469 - 1s - loss: 0.0242 - accuracy: 0.8706 - 971ms/epoch - 2ms/step\n",
            "Epoch 89/90\n",
            "469/469 - 1s - loss: 0.0242 - accuracy: 0.8707 - 980ms/epoch - 2ms/step\n",
            "Epoch 90/90\n",
            "469/469 - 1s - loss: 0.0241 - accuracy: 0.8709 - 976ms/epoch - 2ms/step\n"
          ]
        }
      ]
    },
    {
      "cell_type": "code",
      "source": [
        "plt.plot(history.history['accuracy'])\n",
        "plt.xlabel('accuracy')\n",
        "plt.ylabel('epochs')\n",
        "plt.show()"
      ],
      "metadata": {
        "colab": {
          "base_uri": "https://localhost:8080/",
          "height": 279
        },
        "id": "rw2jcDh_EGSd",
        "outputId": "7dd31738-dea0-4152-98e6-c97364774eee"
      },
      "execution_count": null,
      "outputs": [
        {
          "output_type": "display_data",
          "data": {
            "image/png": "[encoded data removed]",
            "text/plain": [
              "<Figure size 432x288 with 1 Axes>"
            ]
          },
          "metadata": {
            "needs_background": "light"
          }
        }
      ]
    }
  ]
}