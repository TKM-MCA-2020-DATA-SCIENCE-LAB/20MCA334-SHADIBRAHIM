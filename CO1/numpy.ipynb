{
  "nbformat": 4,
  "nbformat_minor": 0,
  "metadata": {
    "colab": {
      "name": "numpy",
      "provenance": [],
      "collapsed_sections": []
    },
    "kernelspec": {
      "name": "python3",
      "display_name": "Python 3"
    },
    "language_info": {
      "name": "python"
    }
  },
  "cells": [
    {
      "cell_type": "markdown",
      "source": [
        "**AIM:** Matrix operations (using vectorization) and transformation using python and SVD \n",
        "using Python.\n",
        "\n",
        "---\n",
        "\n"
      ],
      "metadata": {
        "id": "glEhg3F1azGL"
      }
    },
    {
      "cell_type": "code",
      "metadata": {
        "colab": {
          "base_uri": "https://localhost:8080/"
        },
        "id": "xUZFpiKtLTLI",
        "outputId": "2d555469-7ef6-4a07-a925-47a74b420f6d"
      },
      "source": [
        "import numpy as np\n",
        "\n",
        "list=[1,2,3,4]\n",
        "np.array(list)\n",
        "\n",
        "list2=[[5,6,7],[6,9,2],[4,1,0]]\n",
        "np.array(list2)\n",
        "\n",
        "np.arange(0,10)\n",
        "np.arange(0,11,2)\n",
        "np.zeros(3)\n",
        "np.zeros((3,3))\n",
        "np.ones(3)\n",
        "np.ones((3,3))\n",
        "np.eye(3)\n",
        "np.linspace(0,3,6)\n",
        "np.linspace(0,10,100)\n",
        "np.random.rand(3)\n",
        "np.random.rand(3,4)\n",
        "np.random.randn(3)\n",
        "np.random.randint(4,8,2)\n",
        "\n",
        "l=np.arange(0,25)\n",
        "l.reshape(5,5)\n",
        "l.max()\n",
        "l.min()\n",
        "l.argmax()\n",
        "l.argmin()\n",
        "l.shape\n",
        "l.reshape(25,1)\n",
        "l.dtype\n",
        "\n",
        "k=[[5,10,15],[20,25,30],[35,40,45]]\n",
        "arr1=np.array(k)\n",
        "arr[1]\n",
        "arr[1:3]\n",
        "arr[1:2]=40 \n",
        "arr[:]=40\n",
        "\n",
        "arr1[1:3,0:2]\n",
        "\n",
        "kk=arr1>20\n",
        "arr1[kk]\n"
      ],
      "execution_count": null,
      "outputs": [
        {
          "output_type": "execute_result",
          "data": {
            "text/plain": [
              "array([25, 30, 35, 40, 45])"
            ]
          },
          "metadata": {},
          "execution_count": 103
        }
      ]
    },
    {
      "cell_type": "code",
      "metadata": {
        "id": "SZwVQJQNLSfv",
        "colab": {
          "base_uri": "https://localhost:8080/"
        },
        "outputId": "18bdb57a-3a6c-4912-db6a-e90d627b029b"
      },
      "source": [
        "import numpy as np\n",
        "arr=np.arange(0,10)\n",
        "arr+arr"
      ],
      "execution_count": null,
      "outputs": [
        {
          "output_type": "execute_result",
          "data": {
            "text/plain": [
              "array([ 0,  2,  4,  6,  8, 10, 12, 14, 16, 18])"
            ]
          },
          "metadata": {},
          "execution_count": 5
        }
      ]
    },
    {
      "cell_type": "code",
      "metadata": {
        "colab": {
          "base_uri": "https://localhost:8080/"
        },
        "id": "EhBUSZ4AWXrG",
        "outputId": "0c33ba77-223b-464b-f03a-e331a447e642"
      },
      "source": [
        "import numpy as np\n",
        "arr=np.arange(0,10)\n",
        "arr-arr\n"
      ],
      "execution_count": null,
      "outputs": [
        {
          "output_type": "execute_result",
          "data": {
            "text/plain": [
              "array([0, 0, 0, 0, 0, 0, 0, 0, 0, 0])"
            ]
          },
          "metadata": {},
          "execution_count": 6
        }
      ]
    },
    {
      "cell_type": "code",
      "metadata": {
        "colab": {
          "base_uri": "https://localhost:8080/"
        },
        "id": "qC7ZZSWkXoKD",
        "outputId": "7e39f3ba-05d8-4088-84e3-928357f4d89d"
      },
      "source": [
        "import numpy as np\n",
        "arr=np.arange(0,10)\n",
        "arr*arr"
      ],
      "execution_count": null,
      "outputs": [
        {
          "output_type": "execute_result",
          "data": {
            "text/plain": [
              "array([ 0,  1,  4,  9, 16, 25, 36, 49, 64, 81])"
            ]
          },
          "metadata": {},
          "execution_count": 8
        }
      ]
    },
    {
      "cell_type": "code",
      "metadata": {
        "colab": {
          "base_uri": "https://localhost:8080/"
        },
        "id": "2sC0ZjfNXtEs",
        "outputId": "71795b65-db4b-451b-e1bd-960234d2f131"
      },
      "source": [
        "import numpy as np\n",
        "arr=np.arange(1,10)\n",
        "arr/arr"
      ],
      "execution_count": null,
      "outputs": [
        {
          "output_type": "execute_result",
          "data": {
            "text/plain": [
              "array([1., 1., 1., 1., 1., 1., 1., 1., 1.])"
            ]
          },
          "metadata": {},
          "execution_count": 12
        }
      ]
    },
    {
      "cell_type": "code",
      "metadata": {
        "colab": {
          "base_uri": "https://localhost:8080/"
        },
        "id": "LSJ7lQcvXxlE",
        "outputId": "a9f363c9-1e4b-4ca7-d985-08a1cf1de932"
      },
      "source": [
        "import numpy as np\n",
        "np.zeros(10)"
      ],
      "execution_count": null,
      "outputs": [
        {
          "output_type": "execute_result",
          "data": {
            "text/plain": [
              "array([0., 0., 0., 0., 0., 0., 0., 0., 0., 0.])"
            ]
          },
          "metadata": {},
          "execution_count": 13
        }
      ]
    },
    {
      "cell_type": "code",
      "metadata": {
        "colab": {
          "base_uri": "https://localhost:8080/"
        },
        "id": "Lb7CA77Bac2O",
        "outputId": "a47e4567-1528-4367-fb86-f483d237af72"
      },
      "source": [
        "import numpy as np\n",
        "np.ones(10)"
      ],
      "execution_count": null,
      "outputs": [
        {
          "output_type": "execute_result",
          "data": {
            "text/plain": [
              "array([1., 1., 1., 1., 1., 1., 1., 1., 1., 1.])"
            ]
          },
          "metadata": {},
          "execution_count": 14
        }
      ]
    },
    {
      "cell_type": "code",
      "metadata": {
        "colab": {
          "base_uri": "https://localhost:8080/"
        },
        "id": "PhB-5Sx_arfl",
        "outputId": "c9b78cb6-74f8-4ea6-f254-9c32d91d96e6"
      },
      "source": [
        "import numpy as np\n",
        "p=np.ones(10)\n",
        "p*5"
      ],
      "execution_count": null,
      "outputs": [
        {
          "output_type": "execute_result",
          "data": {
            "text/plain": [
              "array([5., 5., 5., 5., 5., 5., 5., 5., 5., 5.])"
            ]
          },
          "metadata": {},
          "execution_count": 17
        }
      ]
    },
    {
      "cell_type": "code",
      "metadata": {
        "colab": {
          "base_uri": "https://localhost:8080/"
        },
        "id": "d6c71d7wbGAI",
        "outputId": "aab5149f-2417-4038-cbd2-4ba7621f1c31"
      },
      "source": [
        "np.arange(10,51)"
      ],
      "execution_count": null,
      "outputs": [
        {
          "output_type": "execute_result",
          "data": {
            "text/plain": [
              "array([10, 11, 12, 13, 14, 15, 16, 17, 18, 19, 20, 21, 22, 23, 24, 25, 26,\n",
              "       27, 28, 29, 30, 31, 32, 33, 34, 35, 36, 37, 38, 39, 40, 41, 42, 43,\n",
              "       44, 45, 46, 47, 48, 49, 50])"
            ]
          },
          "metadata": {},
          "execution_count": 19
        }
      ]
    },
    {
      "cell_type": "code",
      "metadata": {
        "colab": {
          "base_uri": "https://localhost:8080/"
        },
        "id": "dusxnpYlbzlO",
        "outputId": "50294709-ec60-4c1c-c719-733f400c0be7"
      },
      "source": [
        "np.arange(10,51,2)"
      ],
      "execution_count": null,
      "outputs": [
        {
          "output_type": "execute_result",
          "data": {
            "text/plain": [
              "array([10, 12, 14, 16, 18, 20, 22, 24, 26, 28, 30, 32, 34, 36, 38, 40, 42,\n",
              "       44, 46, 48, 50])"
            ]
          },
          "metadata": {},
          "execution_count": 20
        }
      ]
    },
    {
      "cell_type": "code",
      "metadata": {
        "colab": {
          "base_uri": "https://localhost:8080/"
        },
        "id": "EMy4tJaZcUdG",
        "outputId": "38f38c49-0efc-46f7-e5db-cc048787603a"
      },
      "source": [
        "v=np.arange(0,9)\n",
        "v.reshape(3,3)"
      ],
      "execution_count": null,
      "outputs": [
        {
          "output_type": "execute_result",
          "data": {
            "text/plain": [
              "array([[0, 1, 2],\n",
              "       [3, 4, 5],\n",
              "       [6, 7, 8]])"
            ]
          },
          "metadata": {},
          "execution_count": 21
        }
      ]
    },
    {
      "cell_type": "code",
      "metadata": {
        "colab": {
          "base_uri": "https://localhost:8080/"
        },
        "id": "YS6uOQduclJm",
        "outputId": "fa6ab033-79be-4bb4-c58f-42703911ebfb"
      },
      "source": [
        "np.eye(3)"
      ],
      "execution_count": null,
      "outputs": [
        {
          "output_type": "execute_result",
          "data": {
            "text/plain": [
              "array([[1., 0., 0.],\n",
              "       [0., 1., 0.],\n",
              "       [0., 0., 1.]])"
            ]
          },
          "metadata": {},
          "execution_count": 22
        }
      ]
    },
    {
      "cell_type": "code",
      "metadata": {
        "colab": {
          "base_uri": "https://localhost:8080/"
        },
        "id": "CF1yRwRpdEuG",
        "outputId": "cebe2bc1-0d59-4a80-da22-31ce7b1fec87"
      },
      "source": [
        "np.random.rand(1)"
      ],
      "execution_count": null,
      "outputs": [
        {
          "output_type": "execute_result",
          "data": {
            "text/plain": [
              "array([0.24755786])"
            ]
          },
          "metadata": {},
          "execution_count": 24
        }
      ]
    },
    {
      "cell_type": "code",
      "metadata": {
        "colab": {
          "base_uri": "https://localhost:8080/"
        },
        "id": "XizX_EQodYPO",
        "outputId": "5af3767c-6e04-4607-ecaf-b0f8a6337a21"
      },
      "source": [
        "np.random.randint(1,50,25)"
      ],
      "execution_count": null,
      "outputs": [
        {
          "output_type": "execute_result",
          "data": {
            "text/plain": [
              "array([34, 14, 31, 45,  7, 13, 41, 23, 19, 40, 28, 46, 21,  4, 28, 19, 37,\n",
              "       37, 16, 48, 30, 44, 35, 36, 24])"
            ]
          },
          "metadata": {},
          "execution_count": 25
        }
      ]
    },
    {
      "cell_type": "code",
      "metadata": {
        "colab": {
          "base_uri": "https://localhost:8080/"
        },
        "id": "m0-Mct7_esTg",
        "outputId": "72df0fdb-f274-40b2-f6d0-ea25dce9211f"
      },
      "source": [
        "np.random.randn(1,50,25)"
      ],
      "execution_count": null,
      "outputs": [
        {
          "output_type": "execute_result",
          "data": {
            "text/plain": [
              "array([[[ 1.18688187, -1.70700178,  0.17035755, ...,  0.5711001 ,\n",
              "          0.44157757, -0.48563451],\n",
              "        [ 2.68416045, -2.26052296, -0.6373825 , ...,  0.15754286,\n",
              "         -1.38850735, -0.12517609],\n",
              "        [ 0.34498954,  0.83732434,  0.22012037, ..., -0.67630064,\n",
              "          0.57833026,  1.71487329],\n",
              "        ...,\n",
              "        [ 0.14307435, -1.01579976,  1.78315278, ..., -1.53829061,\n",
              "          0.63752372,  2.06352542],\n",
              "        [ 1.50823999,  1.46981708,  1.15593355, ..., -1.2438443 ,\n",
              "         -0.05624566, -0.61311198],\n",
              "        [-0.25238252,  1.29745184,  0.42063045, ..., -0.73120962,\n",
              "         -0.09026772, -0.26689036]]])"
            ]
          },
          "metadata": {},
          "execution_count": 27
        }
      ]
    },
    {
      "cell_type": "code",
      "metadata": {
        "colab": {
          "base_uri": "https://localhost:8080/"
        },
        "id": "KYhIAS6xfbRw",
        "outputId": "2f4ee584-c61b-4153-92c8-d44c2e98c44c"
      },
      "source": [
        "np.random.randn(5,5)"
      ],
      "execution_count": null,
      "outputs": [
        {
          "output_type": "execute_result",
          "data": {
            "text/plain": [
              "array([[ 0.27427343, -0.3936216 , -0.24161988,  1.1306362 ,  0.20885342],\n",
              "       [ 0.48334986,  0.17678237, -1.75388344,  1.31549175,  0.8202483 ],\n",
              "       [-0.55361097, -1.91100408, -0.08974947,  0.23002296,  0.18504579],\n",
              "       [ 2.05169853, -0.93104649, -1.51315819, -0.08510949,  0.43158241],\n",
              "       [-0.71816848,  1.20656901, -0.06900509,  0.3184274 ,  0.63255383]])"
            ]
          },
          "metadata": {},
          "execution_count": 28
        }
      ]
    },
    {
      "cell_type": "code",
      "metadata": {
        "colab": {
          "base_uri": "https://localhost:8080/"
        },
        "id": "svx62yjqf2lI",
        "outputId": "4a9d474f-ed56-4b59-c393-759c4669f049"
      },
      "source": [
        "ar=np.arange(1,101)\n",
        "d=ar.reshape(10,10)\n",
        "d/100"
      ],
      "execution_count": null,
      "outputs": [
        {
          "output_type": "execute_result",
          "data": {
            "text/plain": [
              "array([[0.01, 0.02, 0.03, 0.04, 0.05, 0.06, 0.07, 0.08, 0.09, 0.1 ],\n",
              "       [0.11, 0.12, 0.13, 0.14, 0.15, 0.16, 0.17, 0.18, 0.19, 0.2 ],\n",
              "       [0.21, 0.22, 0.23, 0.24, 0.25, 0.26, 0.27, 0.28, 0.29, 0.3 ],\n",
              "       [0.31, 0.32, 0.33, 0.34, 0.35, 0.36, 0.37, 0.38, 0.39, 0.4 ],\n",
              "       [0.41, 0.42, 0.43, 0.44, 0.45, 0.46, 0.47, 0.48, 0.49, 0.5 ],\n",
              "       [0.51, 0.52, 0.53, 0.54, 0.55, 0.56, 0.57, 0.58, 0.59, 0.6 ],\n",
              "       [0.61, 0.62, 0.63, 0.64, 0.65, 0.66, 0.67, 0.68, 0.69, 0.7 ],\n",
              "       [0.71, 0.72, 0.73, 0.74, 0.75, 0.76, 0.77, 0.78, 0.79, 0.8 ],\n",
              "       [0.81, 0.82, 0.83, 0.84, 0.85, 0.86, 0.87, 0.88, 0.89, 0.9 ],\n",
              "       [0.91, 0.92, 0.93, 0.94, 0.95, 0.96, 0.97, 0.98, 0.99, 1.  ]])"
            ]
          },
          "metadata": {},
          "execution_count": 38
        }
      ]
    },
    {
      "cell_type": "code",
      "metadata": {
        "colab": {
          "base_uri": "https://localhost:8080/"
        },
        "id": "3GWdomb4gZXX",
        "outputId": "1f09751b-cf9a-4cab-c0c0-5551bc3b2635"
      },
      "source": [
        "np.linspace(0,1,20)"
      ],
      "execution_count": null,
      "outputs": [
        {
          "output_type": "execute_result",
          "data": {
            "text/plain": [
              "array([0.        , 0.05263158, 0.10526316, 0.15789474, 0.21052632,\n",
              "       0.26315789, 0.31578947, 0.36842105, 0.42105263, 0.47368421,\n",
              "       0.52631579, 0.57894737, 0.63157895, 0.68421053, 0.73684211,\n",
              "       0.78947368, 0.84210526, 0.89473684, 0.94736842, 1.        ])"
            ]
          },
          "metadata": {},
          "execution_count": 39
        }
      ]
    },
    {
      "cell_type": "code",
      "metadata": {
        "colab": {
          "base_uri": "https://localhost:8080/"
        },
        "id": "IVP5u5rziiTB",
        "outputId": "46579e48-5db0-4b25-af2d-4e88ad5ee310"
      },
      "source": [
        "p=np.arange(1,26).reshape(5,5)\n",
        "p"
      ],
      "execution_count": null,
      "outputs": [
        {
          "output_type": "execute_result",
          "data": {
            "text/plain": [
              "array([[ 1,  2,  3,  4,  5],\n",
              "       [ 6,  7,  8,  9, 10],\n",
              "       [11, 12, 13, 14, 15],\n",
              "       [16, 17, 18, 19, 20],\n",
              "       [21, 22, 23, 24, 25]])"
            ]
          },
          "metadata": {},
          "execution_count": 42
        }
      ]
    },
    {
      "cell_type": "code",
      "metadata": {
        "colab": {
          "base_uri": "https://localhost:8080/"
        },
        "id": "vK1vQY7EizlA",
        "outputId": "2c9f323b-0f40-46a6-e09f-7bca5f051ee3"
      },
      "source": [
        "p[2:,1:]"
      ],
      "execution_count": null,
      "outputs": [
        {
          "output_type": "execute_result",
          "data": {
            "text/plain": [
              "array([[12, 13, 14, 15],\n",
              "       [17, 18, 19, 20],\n",
              "       [22, 23, 24, 25]])"
            ]
          },
          "metadata": {},
          "execution_count": 55
        }
      ]
    },
    {
      "cell_type": "code",
      "metadata": {
        "colab": {
          "base_uri": "https://localhost:8080/"
        },
        "id": "pyPCofkcjajZ",
        "outputId": "7f43163d-5589-472e-dd66-fb0f540e46a2"
      },
      "source": [
        "p[3,4]"
      ],
      "execution_count": null,
      "outputs": [
        {
          "output_type": "execute_result",
          "data": {
            "text/plain": [
              "20"
            ]
          },
          "metadata": {},
          "execution_count": 59
        }
      ]
    },
    {
      "cell_type": "code",
      "metadata": {
        "colab": {
          "base_uri": "https://localhost:8080/"
        },
        "id": "udcmTprMlpQJ",
        "outputId": "b0040439-65f2-40c7-b60d-7324d6b4d069"
      },
      "source": [
        "p[:3,1:2]"
      ],
      "execution_count": null,
      "outputs": [
        {
          "output_type": "execute_result",
          "data": {
            "text/plain": [
              "array([[ 2],\n",
              "       [ 7],\n",
              "       [12]])"
            ]
          },
          "metadata": {},
          "execution_count": 72
        }
      ]
    },
    {
      "cell_type": "code",
      "metadata": {
        "colab": {
          "base_uri": "https://localhost:8080/"
        },
        "id": "RPl-fGtkl3Bi",
        "outputId": "ffbbde85-0af5-4453-8a38-43dbdc94d29e"
      },
      "source": [
        "p[3:]"
      ],
      "execution_count": null,
      "outputs": [
        {
          "output_type": "execute_result",
          "data": {
            "text/plain": [
              "array([[16, 17, 18, 19, 20],\n",
              "       [21, 22, 23, 24, 25]])"
            ]
          },
          "metadata": {},
          "execution_count": 77
        }
      ]
    },
    {
      "cell_type": "code",
      "metadata": {
        "colab": {
          "base_uri": "https://localhost:8080/"
        },
        "id": "PjiT7BrUmy0T",
        "outputId": "2cda6de8-9463-419d-b8b5-f946a5613405"
      },
      "source": [
        "p[4:]"
      ],
      "execution_count": null,
      "outputs": [
        {
          "output_type": "execute_result",
          "data": {
            "text/plain": [
              "array([[21, 22, 23, 24, 25]])"
            ]
          },
          "metadata": {},
          "execution_count": 88
        }
      ]
    },
    {
      "cell_type": "code",
      "metadata": {
        "colab": {
          "base_uri": "https://localhost:8080/"
        },
        "id": "TYbiUYiInUBx",
        "outputId": "a720403e-aa1f-4868-908f-d72f9c1e12a5"
      },
      "source": [
        "p.sum()"
      ],
      "execution_count": null,
      "outputs": [
        {
          "output_type": "execute_result",
          "data": {
            "text/plain": [
              "325"
            ]
          },
          "metadata": {},
          "execution_count": 87
        }
      ]
    },
    {
      "cell_type": "code",
      "metadata": {
        "colab": {
          "base_uri": "https://localhost:8080/"
        },
        "id": "_1jGdqTin7Re",
        "outputId": "978f7ce1-493e-437e-c7cd-d61b515deb29"
      },
      "source": [
        "p.std()"
      ],
      "execution_count": null,
      "outputs": [
        {
          "output_type": "execute_result",
          "data": {
            "text/plain": [
              "7.211102550927978"
            ]
          },
          "metadata": {},
          "execution_count": 89
        }
      ]
    },
    {
      "cell_type": "code",
      "metadata": {
        "id": "ypUbKllSock6",
        "colab": {
          "base_uri": "https://localhost:8080/"
        },
        "outputId": "6a1eb58d-e737-4eef-a461-44a991b14406"
      },
      "source": [
        "l=np.arange(1,26).reshape(5,5)\n",
        "l.sum(axis=0)"
      ],
      "execution_count": null,
      "outputs": [
        {
          "output_type": "execute_result",
          "data": {
            "text/plain": [
              "array([55, 60, 65, 70, 75])"
            ]
          },
          "metadata": {},
          "execution_count": 6
        }
      ]
    },
    {
      "cell_type": "code",
      "metadata": {
        "id": "qeMh9pDNXrIO",
        "colab": {
          "base_uri": "https://localhost:8080/"
        },
        "outputId": "78434b61-38a0-4548-b80c-d3ff407203ec"
      },
      "source": [
        "# Singular-value decomposition\n",
        "from numpy import array\n",
        "from scipy.linalg import svd\n",
        "# define a matrix\n",
        "arr = array([[2, 3], [4, 5], [6, 7]])\n",
        "print(arr)\n",
        "# SVD\n",
        "U, s, VT = svd(arr)\n",
        "print(U) \n",
        "print(s)\n",
        "print(VT)"
      ],
      "execution_count": null,
      "outputs": [
        {
          "output_type": "stream",
          "name": "stdout",
          "text": [
            "[[2 3]\n",
            " [4 5]\n",
            " [6 7]]\n",
            "[[-0.30449857  0.86058931  0.40824829]\n",
            " [-0.54340036  0.1950625  -0.81649658]\n",
            " [-0.78230216 -0.47046431  0.40824829]]\n",
            "[11.78249223  0.41578466]\n",
            "[[-0.63453566 -0.77289358]\n",
            " [-0.77289358  0.63453566]]\n"
          ]
        }
      ]
    },
    {
      "cell_type": "code",
      "metadata": {
        "colab": {
          "base_uri": "https://localhost:8080/"
        },
        "id": "-jONAm6pDMKh",
        "outputId": "6f1b467d-7a51-48cc-f342-be41639d99c5"
      },
      "source": [
        "U, s, VT = svd(arr,full_matrices=True)\n",
        "print(U) \n",
        "print(s)\n",
        "print(VT)"
      ],
      "execution_count": null,
      "outputs": [
        {
          "output_type": "stream",
          "name": "stdout",
          "text": [
            "[[-0.30449857  0.86058931  0.40824829]\n",
            " [-0.54340036  0.1950625  -0.81649658]\n",
            " [-0.78230216 -0.47046431  0.40824829]]\n",
            "[11.78249223  0.41578466]\n",
            "[[-0.63453566 -0.77289358]\n",
            " [-0.77289358  0.63453566]]\n"
          ]
        }
      ]
    },
    {
      "cell_type": "code",
      "metadata": {
        "colab": {
          "base_uri": "https://localhost:8080/"
        },
        "id": "WBkzKV3pEZ8l",
        "outputId": "3b56cae7-bab0-4cd3-932f-6309b4f1aee1"
      },
      "source": [
        "U, s, VT = svd(arr,full_matrices=False)\n",
        "print(U) \n",
        "print(s)\n",
        "print(VT)"
      ],
      "execution_count": null,
      "outputs": [
        {
          "output_type": "stream",
          "name": "stdout",
          "text": [
            "[[-0.30449857  0.86058931]\n",
            " [-0.54340036  0.1950625 ]\n",
            " [-0.78230216 -0.47046431]]\n",
            "[11.78249223  0.41578466]\n",
            "[[-0.63453566 -0.77289358]\n",
            " [-0.77289358  0.63453566]]\n"
          ]
        }
      ]
    },
    {
      "cell_type": "code",
      "metadata": {
        "colab": {
          "base_uri": "https://localhost:8080/"
        },
        "id": "g_fWJZ5VE4rl",
        "outputId": "e83b92c5-0de3-4879-eea9-9637ec9f82c4"
      },
      "source": [
        "from numpy import diag\n",
        "from numpy import dot\n",
        "from numpy import zeros\n",
        "print(arr)\n",
        "# Singular-value decomposition\n",
        "U, s, VT = svd(arr)\n",
        "# create m x n Sigma matrix\n",
        "Sigma = zeros((arr.shape[0], arr.shape[1]))\n",
        "# populate Sigma with n x n diagonal matrix\n",
        "Sigma[:arr.shape[1], :arr.shape[1]] = diag(s)\n",
        "# reconstruct matrix\n",
        "B = U.dot(Sigma.dot(VT))\n",
        "print(B)"
      ],
      "execution_count": null,
      "outputs": [
        {
          "output_type": "stream",
          "name": "stdout",
          "text": [
            "[[2 3]\n",
            " [4 5]\n",
            " [6 7]]\n",
            "[[2. 3.]\n",
            " [4. 5.]\n",
            " [6. 7.]]\n"
          ]
        }
      ]
    },
    {
      "cell_type": "code",
      "metadata": {
        "colab": {
          "base_uri": "https://localhost:8080/"
        },
        "id": "pG4o2BQmE9pA",
        "outputId": "a076f83e-6b76-4182-ad41-a5bb9fec848d"
      },
      "source": [
        "import numpy as np\n",
        "arr = np.array([[1,9,2],[3,8,7],[2,5,6]])\n",
        "U, D, VT = np.linalg.svd(arr)\n",
        "#Checking if we can remake the original matrix using U,D,VT\n",
        "arr_remake = (U @ np.diag(D) @ VT)\n",
        "print(arr_remake)"
      ],
      "execution_count": null,
      "outputs": [
        {
          "output_type": "stream",
          "name": "stdout",
          "text": [
            "[[1. 9. 2.]\n",
            " [3. 8. 7.]\n",
            " [2. 5. 6.]]\n"
          ]
        }
      ]
    },
    {
      "cell_type": "markdown",
      "source": [
        "**RESULT**: Program is executed successfully and output is obtained"
      ],
      "metadata": {
        "id": "FxjegdZ5bAWT"
      }
    }
  ]
}