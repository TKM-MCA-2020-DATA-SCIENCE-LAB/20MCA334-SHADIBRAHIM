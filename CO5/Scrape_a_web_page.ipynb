{
  "nbformat": 4,
  "nbformat_minor": 0,
  "metadata": {
    "colab": {
      "name": "Scrape a web page.ipynb",
      "provenance": []
    },
    "kernelspec": {
      "name": "python3",
      "display_name": "Python 3"
    },
    "language_info": {
      "name": "python"
    }
  },
  "cells": [
    {
      "cell_type": "markdown",
      "source": [
        "Implement a program to scrap the web page of any popular website"
      ],
      "metadata": {
        "id": "TkToSgRI3nWU"
      }
    },
    {
      "cell_type": "code",
      "source": [
        "from bs4 import BeautifulSoup\n",
        "import csv\n",
        "import requests\n",
        "import pandas as pd\n",
        "import matplotlib.pyplot as plt\n",
        "import numpy as np"
      ],
      "metadata": {
        "id": "tSjG_yU931HD"
      },
      "execution_count": 2,
      "outputs": []
    },
    {
      "cell_type": "code",
      "source": [
        "webpage=requests.get(\"https://www.flipkart.com/computers/laptops/~acer-gaming-laptops/pr?sid=6bo,b5g&wid=3.productCard.PMU_V2_2\")"
      ],
      "metadata": {
        "id": "WWUOTVwX4dvT"
      },
      "execution_count": 4,
      "outputs": []
    },
    {
      "cell_type": "code",
      "source": [
        "webpage"
      ],
      "metadata": {
        "colab": {
          "base_uri": "https://localhost:8080/"
        },
        "id": "_xRBH_UN413j",
        "outputId": "480af83e-3362-4d18-d44b-d7b24f1e4dd7"
      },
      "execution_count": 6,
      "outputs": [
        {
          "output_type": "execute_result",
          "data": {
            "text/plain": [
              "<Response [200]>"
            ]
          },
          "metadata": {},
          "execution_count": 6
        }
      ]
    },
    {
      "cell_type": "code",
      "source": [
        "soup=BeautifulSoup(webpage.content,\"html.parser\")"
      ],
      "metadata": {
        "id": "ED6_SqGG45kZ"
      },
      "execution_count": 7,
      "outputs": []
    },
    {
      "cell_type": "code",
      "source": [
        "print(soup.prettify())"
      ],
      "metadata": {
        "id": "FZtpxYoN5DCS"
      },
      "execution_count": null,
      "outputs": []
    },
    {
      "cell_type": "code",
      "source": [
        "names=soup.find_all(\"div\",class_=\"_4rR01T\")"
      ],
      "metadata": {
        "id": "GaK-f7bI5H5h"
      },
      "execution_count": 10,
      "outputs": []
    },
    {
      "cell_type": "code",
      "source": [
        "names"
      ],
      "metadata": {
        "id": "YuDLZFx35yjR"
      },
      "execution_count": null,
      "outputs": []
    },
    {
      "cell_type": "code",
      "source": [
        "len(names)"
      ],
      "metadata": {
        "colab": {
          "base_uri": "https://localhost:8080/"
        },
        "id": "XRP82qDT5-If",
        "outputId": "bcf59657-2b2e-4f5b-9654-677b466ea595"
      },
      "execution_count": 13,
      "outputs": [
        {
          "output_type": "execute_result",
          "data": {
            "text/plain": [
              "17"
            ]
          },
          "metadata": {},
          "execution_count": 13
        }
      ]
    },
    {
      "cell_type": "code",
      "source": [
        "laptop_names=[]\n",
        "for i in range(0,len(names)):\n",
        "  laptop_names.append(names[i].get_text())"
      ],
      "metadata": {
        "id": "s-NaGk7D7PLh"
      },
      "execution_count": 16,
      "outputs": []
    },
    {
      "cell_type": "code",
      "source": [
        "laptop_names\n"
      ],
      "metadata": {
        "colab": {
          "base_uri": "https://localhost:8080/"
        },
        "id": "q6oNwRMN7snJ",
        "outputId": "e808e585-dbb4-41e9-e42b-6384631554e5"
      },
      "execution_count": 19,
      "outputs": [
        {
          "output_type": "execute_result",
          "data": {
            "text/plain": [
              "['acer Aspire 7 Core i5 10th Gen - (8 GB/512 GB SSD/Windows 10 Home/4 GB Graphics/NVIDIA GeForce GTX 165...',\n",
              " 'acer Aspire 7 Ryzen 5 Hexa Core 5500U - (8 GB/512 GB SSD/Windows 10 Home/4 GB Graphics/NVIDIA GeForce ...',\n",
              " 'acer Nitro 5 Ryzen 5 Hexa Core 4600H - (8 GB/1 TB HDD/256 GB SSD/Windows 10 Home/4 GB Graphics/NVIDIA ...',\n",
              " 'acer NITRO 5 Ryzen 5 Hexa Core 5600H - (8 GB/1 TB HDD/256 GB SSD/Windows 10 Home/4 GB Graphics/NVIDIA ...',\n",
              " 'acer Nitro Ryzen 5 Hexa Core 5600H - (8 GB/1 TB HDD/256 GB SSD/Windows 10 Home/4 GB Graphics/NVIDIA Ge...',\n",
              " 'acer Predator Helios 300 Core i7 11th Gen - (16 GB/1 TB HDD/512 GB SSD/Windows 10 Home/6 GB Graphics/N...',\n",
              " 'acer Predator Helios 300 Octa Core i7 10th Gen - (16 GB/1 TB HDD/256 GB SSD/Windows 10 Home/6 GB Graph...',\n",
              " 'acer Nitro 5 Ryzen 7 Octa Core 5800H - (16 GB/1 TB HDD/256 GB SSD/Windows 10 Home/4 GB Graphics/NVIDIA...',\n",
              " 'acer Predator Helios 300 Core i7 10th Gen - (16 GB/1 TB SSD/Windows 10 Home/6 GB Graphics/NVIDIA GeFor...',\n",
              " 'acer Predator Helios 300 Core i7 11th Gen - (16 GB/1 TB HDD/512 GB SSD/Windows 10 Home/4 GB Graphics/N...',\n",
              " 'acer Predator Helios 300 Core i7 11th Gen - (16 GB/1 TB SSD/Windows 10 Home/6 GB Graphics/NVIDIA GeFor...',\n",
              " 'acer Nitro 5 Ryzen 7 Octa Core 5800H - (16 GB/1 TB HDD/256 GB SSD/Windows 10 Home/6 GB Graphics/NVIDIA...',\n",
              " 'acer Predator Triton 300 Core i7 10th Gen - (16 GB/2 TB SSD/Windows 10 Home/8 GB Graphics/NVIDIA GeFor...',\n",
              " 'acer Nitro 5 Ryzen 5 Hexa Core 5600H - (16 GB/1 TB HDD/256 GB SSD/Windows 10 Home/6 GB Graphics/NVIDIA...',\n",
              " 'acer Predator Helios 300 Core i5 7th Gen - (8 GB/1 TB HDD/128 GB SSD/Windows 10 Home/4 GB Graphics/NVI...',\n",
              " 'acer Core i7 6th Gen - (16 GB/1 TB HDD/128 GB SSD/Windows 10 Home/4 GB Graphics/NVIDIA GeForce GTX 980...',\n",
              " 'acer Predator Helios 300 Core i9 11th Gen - (32 GB/1 TB SSD/Windows 11 Home/8 GB Graphics/NVIDIA GeFor...']"
            ]
          },
          "metadata": {},
          "execution_count": 19
        }
      ]
    },
    {
      "cell_type": "code",
      "source": [
        "price=soup.find_all(\"div\",class_=\"_30jeq3 _1_WHN1\")"
      ],
      "metadata": {
        "id": "ahBpT2AA7yLZ"
      },
      "execution_count": 23,
      "outputs": []
    },
    {
      "cell_type": "code",
      "source": [
        "price"
      ],
      "metadata": {
        "id": "VWx_Ujnc827B"
      },
      "execution_count": null,
      "outputs": []
    },
    {
      "cell_type": "code",
      "source": [
        "len(price)"
      ],
      "metadata": {
        "colab": {
          "base_uri": "https://localhost:8080/"
        },
        "id": "RBYDBu3p83pp",
        "outputId": "c649e43b-f236-4a68-9805-59aeda34cc8a"
      },
      "execution_count": 26,
      "outputs": [
        {
          "output_type": "execute_result",
          "data": {
            "text/plain": [
              "17"
            ]
          },
          "metadata": {},
          "execution_count": 26
        }
      ]
    },
    {
      "cell_type": "code",
      "source": [
        "price_list=[]\n",
        "for i in range(0,len(price)):\n",
        "  price_list.append(price[i].get_text())"
      ],
      "metadata": {
        "id": "k0rb5Ikm9F74"
      },
      "execution_count": 31,
      "outputs": []
    },
    {
      "cell_type": "code",
      "source": [
        "price_list"
      ],
      "metadata": {
        "colab": {
          "base_uri": "https://localhost:8080/"
        },
        "id": "Wz27vhjI9-v0",
        "outputId": "65744978-db02-484d-a8f2-c15bb233d111"
      },
      "execution_count": 33,
      "outputs": [
        {
          "output_type": "execute_result",
          "data": {
            "text/plain": [
              "['₹52,990',\n",
              " '₹54,990',\n",
              " '₹60,990',\n",
              " '₹65,990',\n",
              " '₹72,990',\n",
              " '₹1,19,990',\n",
              " '₹1,09,990',\n",
              " '₹86,990',\n",
              " '₹1,16,990',\n",
              " '₹1,05,990',\n",
              " '₹1,29,990',\n",
              " '₹1,00,990',\n",
              " '₹1,59,990',\n",
              " '₹94,850',\n",
              " '₹1,29,999',\n",
              " '₹1,16,640',\n",
              " '₹1,79,990']"
            ]
          },
          "metadata": {},
          "execution_count": 33
        }
      ]
    },
    {
      "cell_type": "code",
      "source": [
        "import pandas as pd\n"
      ],
      "metadata": {
        "id": "uXphmaHK-CBk"
      },
      "execution_count": 35,
      "outputs": []
    },
    {
      "cell_type": "code",
      "source": [
        "df=pd.DataFrame()"
      ],
      "metadata": {
        "id": "Ye2NA5RY-Fdl"
      },
      "execution_count": 36,
      "outputs": []
    },
    {
      "cell_type": "code",
      "source": [
        "df['laptop_names']=laptop_names\n"
      ],
      "metadata": {
        "id": "gfbd8N8N-KKH"
      },
      "execution_count": 38,
      "outputs": []
    },
    {
      "cell_type": "code",
      "source": [
        "df['price_list']=price_list"
      ],
      "metadata": {
        "id": "egl_yXzB-bWY"
      },
      "execution_count": 39,
      "outputs": []
    },
    {
      "cell_type": "code",
      "source": [
        "df"
      ],
      "metadata": {
        "colab": {
          "base_uri": "https://localhost:8080/",
          "height": 582
        },
        "id": "Pz5os_ho-sax",
        "outputId": "1112bc5a-310a-4062-b01b-c6076ab3659a"
      },
      "execution_count": 41,
      "outputs": [
        {
          "output_type": "execute_result",
          "data": {
            "text/html": [
              "\n",
              "  <div id=\"df-7ed35d18-61cf-4245-b013-9329495017e0\">\n",
              "    <div class=\"colab-df-container\">\n",
              "      <div>\n",
              "<style scoped>\n",
              "    .dataframe tbody tr th:only-of-type {\n",
              "        vertical-align: middle;\n",
              "    }\n",
              "\n",
              "    .dataframe tbody tr th {\n",
              "        vertical-align: top;\n",
              "    }\n",
              "\n",
              "    .dataframe thead th {\n",
              "        text-align: right;\n",
              "    }\n",
              "</style>\n",
              "<table border=\"1\" class=\"dataframe\">\n",
              "  <thead>\n",
              "    <tr style=\"text-align: right;\">\n",
              "      <th></th>\n",
              "      <th>laptop_names</th>\n",
              "      <th>price_list</th>\n",
              "    </tr>\n",
              "  </thead>\n",
              "  <tbody>\n",
              "    <tr>\n",
              "      <th>0</th>\n",
              "      <td>acer Aspire 7 Core i5 10th Gen - (8 GB/512 GB ...</td>\n",
              "      <td>₹52,990</td>\n",
              "    </tr>\n",
              "    <tr>\n",
              "      <th>1</th>\n",
              "      <td>acer Aspire 7 Ryzen 5 Hexa Core 5500U - (8 GB/...</td>\n",
              "      <td>₹54,990</td>\n",
              "    </tr>\n",
              "    <tr>\n",
              "      <th>2</th>\n",
              "      <td>acer Nitro 5 Ryzen 5 Hexa Core 4600H - (8 GB/1...</td>\n",
              "      <td>₹60,990</td>\n",
              "    </tr>\n",
              "    <tr>\n",
              "      <th>3</th>\n",
              "      <td>acer NITRO 5 Ryzen 5 Hexa Core 5600H - (8 GB/1...</td>\n",
              "      <td>₹65,990</td>\n",
              "    </tr>\n",
              "    <tr>\n",
              "      <th>4</th>\n",
              "      <td>acer Nitro Ryzen 5 Hexa Core 5600H - (8 GB/1 T...</td>\n",
              "      <td>₹72,990</td>\n",
              "    </tr>\n",
              "    <tr>\n",
              "      <th>5</th>\n",
              "      <td>acer Predator Helios 300 Core i7 11th Gen - (1...</td>\n",
              "      <td>₹1,19,990</td>\n",
              "    </tr>\n",
              "    <tr>\n",
              "      <th>6</th>\n",
              "      <td>acer Predator Helios 300 Octa Core i7 10th Gen...</td>\n",
              "      <td>₹1,09,990</td>\n",
              "    </tr>\n",
              "    <tr>\n",
              "      <th>7</th>\n",
              "      <td>acer Nitro 5 Ryzen 7 Octa Core 5800H - (16 GB/...</td>\n",
              "      <td>₹86,990</td>\n",
              "    </tr>\n",
              "    <tr>\n",
              "      <th>8</th>\n",
              "      <td>acer Predator Helios 300 Core i7 10th Gen - (1...</td>\n",
              "      <td>₹1,16,990</td>\n",
              "    </tr>\n",
              "    <tr>\n",
              "      <th>9</th>\n",
              "      <td>acer Predator Helios 300 Core i7 11th Gen - (1...</td>\n",
              "      <td>₹1,05,990</td>\n",
              "    </tr>\n",
              "    <tr>\n",
              "      <th>10</th>\n",
              "      <td>acer Predator Helios 300 Core i7 11th Gen - (1...</td>\n",
              "      <td>₹1,29,990</td>\n",
              "    </tr>\n",
              "    <tr>\n",
              "      <th>11</th>\n",
              "      <td>acer Nitro 5 Ryzen 7 Octa Core 5800H - (16 GB/...</td>\n",
              "      <td>₹1,00,990</td>\n",
              "    </tr>\n",
              "    <tr>\n",
              "      <th>12</th>\n",
              "      <td>acer Predator Triton 300 Core i7 10th Gen - (1...</td>\n",
              "      <td>₹1,59,990</td>\n",
              "    </tr>\n",
              "    <tr>\n",
              "      <th>13</th>\n",
              "      <td>acer Nitro 5 Ryzen 5 Hexa Core 5600H - (16 GB/...</td>\n",
              "      <td>₹94,850</td>\n",
              "    </tr>\n",
              "    <tr>\n",
              "      <th>14</th>\n",
              "      <td>acer Predator Helios 300 Core i5 7th Gen - (8 ...</td>\n",
              "      <td>₹1,29,999</td>\n",
              "    </tr>\n",
              "    <tr>\n",
              "      <th>15</th>\n",
              "      <td>acer Core i7 6th Gen - (16 GB/1 TB HDD/128 GB ...</td>\n",
              "      <td>₹1,16,640</td>\n",
              "    </tr>\n",
              "    <tr>\n",
              "      <th>16</th>\n",
              "      <td>acer Predator Helios 300 Core i9 11th Gen - (3...</td>\n",
              "      <td>₹1,79,990</td>\n",
              "    </tr>\n",
              "  </tbody>\n",
              "</table>\n",
              "</div>\n",
              "      <button class=\"colab-df-convert\" onclick=\"convertToInteractive('df-7ed35d18-61cf-4245-b013-9329495017e0')\"\n",
              "              title=\"Convert this dataframe to an interactive table.\"\n",
              "              style=\"display:none;\">\n",
              "        \n",
              "  <svg xmlns=\"http://www.w3.org/2000/svg\" height=\"24px\"viewBox=\"0 0 24 24\"\n",
              "       width=\"24px\">\n",
              "    <path d=\"M0 0h24v24H0V0z\" fill=\"none\"/>\n",
              "    <path d=\"M18.56 5.44l.94 2.06.94-2.06 2.06-.94-2.06-.94-.94-2.06-.94 2.06-2.06.94zm-11 1L8.5 8.5l.94-2.06 2.06-.94-2.06-.94L8.5 2.5l-.94 2.06-2.06.94zm10 10l.94 2.06.94-2.06 2.06-.94-2.06-.94-.94-2.06-.94 2.06-2.06.94z\"/><path d=\"M17.41 7.96l-1.37-1.37c-.4-.4-.92-.59-1.43-.59-.52 0-1.04.2-1.43.59L10.3 9.45l-7.72 7.72c-.78.78-.78 2.05 0 2.83L4 21.41c.39.39.9.59 1.41.59.51 0 1.02-.2 1.41-.59l7.78-7.78 2.81-2.81c.8-.78.8-2.07 0-2.86zM5.41 20L4 18.59l7.72-7.72 1.47 1.35L5.41 20z\"/>\n",
              "  </svg>\n",
              "      </button>\n",
              "      \n",
              "  <style>\n",
              "    .colab-df-container {\n",
              "      display:flex;\n",
              "      flex-wrap:wrap;\n",
              "      gap: 12px;\n",
              "    }\n",
              "\n",
              "    .colab-df-convert {\n",
              "      background-color: #E8F0FE;\n",
              "      border: none;\n",
              "      border-radius: 50%;\n",
              "      cursor: pointer;\n",
              "      display: none;\n",
              "      fill: #1967D2;\n",
              "      height: 32px;\n",
              "      padding: 0 0 0 0;\n",
              "      width: 32px;\n",
              "    }\n",
              "\n",
              "    .colab-df-convert:hover {\n",
              "      background-color: #E2EBFA;\n",
              "      box-shadow: 0px 1px 2px rgba(60, 64, 67, 0.3), 0px 1px 3px 1px rgba(60, 64, 67, 0.15);\n",
              "      fill: #174EA6;\n",
              "    }\n",
              "\n",
              "    [theme=dark] .colab-df-convert {\n",
              "      background-color: #3B4455;\n",
              "      fill: #D2E3FC;\n",
              "    }\n",
              "\n",
              "    [theme=dark] .colab-df-convert:hover {\n",
              "      background-color: #434B5C;\n",
              "      box-shadow: 0px 1px 3px 1px rgba(0, 0, 0, 0.15);\n",
              "      filter: drop-shadow(0px 1px 2px rgba(0, 0, 0, 0.3));\n",
              "      fill: #FFFFFF;\n",
              "    }\n",
              "  </style>\n",
              "\n",
              "      <script>\n",
              "        const buttonEl =\n",
              "          document.querySelector('#df-7ed35d18-61cf-4245-b013-9329495017e0 button.colab-df-convert');\n",
              "        buttonEl.style.display =\n",
              "          google.colab.kernel.accessAllowed ? 'block' : 'none';\n",
              "\n",
              "        async function convertToInteractive(key) {\n",
              "          const element = document.querySelector('#df-7ed35d18-61cf-4245-b013-9329495017e0');\n",
              "          const dataTable =\n",
              "            await google.colab.kernel.invokeFunction('convertToInteractive',\n",
              "                                                     [key], {});\n",
              "          if (!dataTable) return;\n",
              "\n",
              "          const docLinkHtml = 'Like what you see? Visit the ' +\n",
              "            '<a target=\"_blank\" href=https://colab.research.google.com/notebooks/data_table.ipynb>data table notebook</a>'\n",
              "            + ' to learn more about interactive tables.';\n",
              "          element.innerHTML = '';\n",
              "          dataTable['output_type'] = 'display_data';\n",
              "          await google.colab.output.renderOutput(dataTable, element);\n",
              "          const docLink = document.createElement('div');\n",
              "          docLink.innerHTML = docLinkHtml;\n",
              "          element.appendChild(docLink);\n",
              "        }\n",
              "      </script>\n",
              "    </div>\n",
              "  </div>\n",
              "  "
            ],
            "text/plain": [
              "                                         laptop_names price_list\n",
              "0   acer Aspire 7 Core i5 10th Gen - (8 GB/512 GB ...    ₹52,990\n",
              "1   acer Aspire 7 Ryzen 5 Hexa Core 5500U - (8 GB/...    ₹54,990\n",
              "2   acer Nitro 5 Ryzen 5 Hexa Core 4600H - (8 GB/1...    ₹60,990\n",
              "3   acer NITRO 5 Ryzen 5 Hexa Core 5600H - (8 GB/1...    ₹65,990\n",
              "4   acer Nitro Ryzen 5 Hexa Core 5600H - (8 GB/1 T...    ₹72,990\n",
              "5   acer Predator Helios 300 Core i7 11th Gen - (1...  ₹1,19,990\n",
              "6   acer Predator Helios 300 Octa Core i7 10th Gen...  ₹1,09,990\n",
              "7   acer Nitro 5 Ryzen 7 Octa Core 5800H - (16 GB/...    ₹86,990\n",
              "8   acer Predator Helios 300 Core i7 10th Gen - (1...  ₹1,16,990\n",
              "9   acer Predator Helios 300 Core i7 11th Gen - (1...  ₹1,05,990\n",
              "10  acer Predator Helios 300 Core i7 11th Gen - (1...  ₹1,29,990\n",
              "11  acer Nitro 5 Ryzen 7 Octa Core 5800H - (16 GB/...  ₹1,00,990\n",
              "12  acer Predator Triton 300 Core i7 10th Gen - (1...  ₹1,59,990\n",
              "13  acer Nitro 5 Ryzen 5 Hexa Core 5600H - (16 GB/...    ₹94,850\n",
              "14  acer Predator Helios 300 Core i5 7th Gen - (8 ...  ₹1,29,999\n",
              "15  acer Core i7 6th Gen - (16 GB/1 TB HDD/128 GB ...  ₹1,16,640\n",
              "16  acer Predator Helios 300 Core i9 11th Gen - (3...  ₹1,79,990"
            ]
          },
          "metadata": {},
          "execution_count": 41
        }
      ]
    },
    {
      "cell_type": "code",
      "source": [
        "df.to_csv('laptops.csv',index=False)\n"
      ],
      "metadata": {
        "id": "toyASzra-vpA"
      },
      "execution_count": 44,
      "outputs": []
    },
    {
      "cell_type": "code",
      "source": [
        "pd.read_csv('laptops.csv')"
      ],
      "metadata": {
        "colab": {
          "base_uri": "https://localhost:8080/",
          "height": 582
        },
        "id": "MiUgE_5P_AtA",
        "outputId": "a718b14d-c5ef-4dcf-f53f-6b97c2e77639"
      },
      "execution_count": 47,
      "outputs": [
        {
          "output_type": "execute_result",
          "data": {
            "text/html": [
              "\n",
              "  <div id=\"df-5d16a283-4698-47f8-8ff9-7163494d3b15\">\n",
              "    <div class=\"colab-df-container\">\n",
              "      <div>\n",
              "<style scoped>\n",
              "    .dataframe tbody tr th:only-of-type {\n",
              "        vertical-align: middle;\n",
              "    }\n",
              "\n",
              "    .dataframe tbody tr th {\n",
              "        vertical-align: top;\n",
              "    }\n",
              "\n",
              "    .dataframe thead th {\n",
              "        text-align: right;\n",
              "    }\n",
              "</style>\n",
              "<table border=\"1\" class=\"dataframe\">\n",
              "  <thead>\n",
              "    <tr style=\"text-align: right;\">\n",
              "      <th></th>\n",
              "      <th>laptop_names</th>\n",
              "      <th>price_list</th>\n",
              "    </tr>\n",
              "  </thead>\n",
              "  <tbody>\n",
              "    <tr>\n",
              "      <th>0</th>\n",
              "      <td>acer Aspire 7 Core i5 10th Gen - (8 GB/512 GB ...</td>\n",
              "      <td>₹52,990</td>\n",
              "    </tr>\n",
              "    <tr>\n",
              "      <th>1</th>\n",
              "      <td>acer Aspire 7 Ryzen 5 Hexa Core 5500U - (8 GB/...</td>\n",
              "      <td>₹54,990</td>\n",
              "    </tr>\n",
              "    <tr>\n",
              "      <th>2</th>\n",
              "      <td>acer Nitro 5 Ryzen 5 Hexa Core 4600H - (8 GB/1...</td>\n",
              "      <td>₹60,990</td>\n",
              "    </tr>\n",
              "    <tr>\n",
              "      <th>3</th>\n",
              "      <td>acer NITRO 5 Ryzen 5 Hexa Core 5600H - (8 GB/1...</td>\n",
              "      <td>₹65,990</td>\n",
              "    </tr>\n",
              "    <tr>\n",
              "      <th>4</th>\n",
              "      <td>acer Nitro Ryzen 5 Hexa Core 5600H - (8 GB/1 T...</td>\n",
              "      <td>₹72,990</td>\n",
              "    </tr>\n",
              "    <tr>\n",
              "      <th>5</th>\n",
              "      <td>acer Predator Helios 300 Core i7 11th Gen - (1...</td>\n",
              "      <td>₹1,19,990</td>\n",
              "    </tr>\n",
              "    <tr>\n",
              "      <th>6</th>\n",
              "      <td>acer Predator Helios 300 Octa Core i7 10th Gen...</td>\n",
              "      <td>₹1,09,990</td>\n",
              "    </tr>\n",
              "    <tr>\n",
              "      <th>7</th>\n",
              "      <td>acer Nitro 5 Ryzen 7 Octa Core 5800H - (16 GB/...</td>\n",
              "      <td>₹86,990</td>\n",
              "    </tr>\n",
              "    <tr>\n",
              "      <th>8</th>\n",
              "      <td>acer Predator Helios 300 Core i7 10th Gen - (1...</td>\n",
              "      <td>₹1,16,990</td>\n",
              "    </tr>\n",
              "    <tr>\n",
              "      <th>9</th>\n",
              "      <td>acer Predator Helios 300 Core i7 11th Gen - (1...</td>\n",
              "      <td>₹1,05,990</td>\n",
              "    </tr>\n",
              "    <tr>\n",
              "      <th>10</th>\n",
              "      <td>acer Predator Helios 300 Core i7 11th Gen - (1...</td>\n",
              "      <td>₹1,29,990</td>\n",
              "    </tr>\n",
              "    <tr>\n",
              "      <th>11</th>\n",
              "      <td>acer Nitro 5 Ryzen 7 Octa Core 5800H - (16 GB/...</td>\n",
              "      <td>₹1,00,990</td>\n",
              "    </tr>\n",
              "    <tr>\n",
              "      <th>12</th>\n",
              "      <td>acer Predator Triton 300 Core i7 10th Gen - (1...</td>\n",
              "      <td>₹1,59,990</td>\n",
              "    </tr>\n",
              "    <tr>\n",
              "      <th>13</th>\n",
              "      <td>acer Nitro 5 Ryzen 5 Hexa Core 5600H - (16 GB/...</td>\n",
              "      <td>₹94,850</td>\n",
              "    </tr>\n",
              "    <tr>\n",
              "      <th>14</th>\n",
              "      <td>acer Predator Helios 300 Core i5 7th Gen - (8 ...</td>\n",
              "      <td>₹1,29,999</td>\n",
              "    </tr>\n",
              "    <tr>\n",
              "      <th>15</th>\n",
              "      <td>acer Core i7 6th Gen - (16 GB/1 TB HDD/128 GB ...</td>\n",
              "      <td>₹1,16,640</td>\n",
              "    </tr>\n",
              "    <tr>\n",
              "      <th>16</th>\n",
              "      <td>acer Predator Helios 300 Core i9 11th Gen - (3...</td>\n",
              "      <td>₹1,79,990</td>\n",
              "    </tr>\n",
              "  </tbody>\n",
              "</table>\n",
              "</div>\n",
              "      <button class=\"colab-df-convert\" onclick=\"convertToInteractive('df-5d16a283-4698-47f8-8ff9-7163494d3b15')\"\n",
              "              title=\"Convert this dataframe to an interactive table.\"\n",
              "              style=\"display:none;\">\n",
              "        \n",
              "  <svg xmlns=\"http://www.w3.org/2000/svg\" height=\"24px\"viewBox=\"0 0 24 24\"\n",
              "       width=\"24px\">\n",
              "    <path d=\"M0 0h24v24H0V0z\" fill=\"none\"/>\n",
              "    <path d=\"M18.56 5.44l.94 2.06.94-2.06 2.06-.94-2.06-.94-.94-2.06-.94 2.06-2.06.94zm-11 1L8.5 8.5l.94-2.06 2.06-.94-2.06-.94L8.5 2.5l-.94 2.06-2.06.94zm10 10l.94 2.06.94-2.06 2.06-.94-2.06-.94-.94-2.06-.94 2.06-2.06.94z\"/><path d=\"M17.41 7.96l-1.37-1.37c-.4-.4-.92-.59-1.43-.59-.52 0-1.04.2-1.43.59L10.3 9.45l-7.72 7.72c-.78.78-.78 2.05 0 2.83L4 21.41c.39.39.9.59 1.41.59.51 0 1.02-.2 1.41-.59l7.78-7.78 2.81-2.81c.8-.78.8-2.07 0-2.86zM5.41 20L4 18.59l7.72-7.72 1.47 1.35L5.41 20z\"/>\n",
              "  </svg>\n",
              "      </button>\n",
              "      \n",
              "  <style>\n",
              "    .colab-df-container {\n",
              "      display:flex;\n",
              "      flex-wrap:wrap;\n",
              "      gap: 12px;\n",
              "    }\n",
              "\n",
              "    .colab-df-convert {\n",
              "      background-color: #E8F0FE;\n",
              "      border: none;\n",
              "      border-radius: 50%;\n",
              "      cursor: pointer;\n",
              "      display: none;\n",
              "      fill: #1967D2;\n",
              "      height: 32px;\n",
              "      padding: 0 0 0 0;\n",
              "      width: 32px;\n",
              "    }\n",
              "\n",
              "    .colab-df-convert:hover {\n",
              "      background-color: #E2EBFA;\n",
              "      box-shadow: 0px 1px 2px rgba(60, 64, 67, 0.3), 0px 1px 3px 1px rgba(60, 64, 67, 0.15);\n",
              "      fill: #174EA6;\n",
              "    }\n",
              "\n",
              "    [theme=dark] .colab-df-convert {\n",
              "      background-color: #3B4455;\n",
              "      fill: #D2E3FC;\n",
              "    }\n",
              "\n",
              "    [theme=dark] .colab-df-convert:hover {\n",
              "      background-color: #434B5C;\n",
              "      box-shadow: 0px 1px 3px 1px rgba(0, 0, 0, 0.15);\n",
              "      filter: drop-shadow(0px 1px 2px rgba(0, 0, 0, 0.3));\n",
              "      fill: #FFFFFF;\n",
              "    }\n",
              "  </style>\n",
              "\n",
              "      <script>\n",
              "        const buttonEl =\n",
              "          document.querySelector('#df-5d16a283-4698-47f8-8ff9-7163494d3b15 button.colab-df-convert');\n",
              "        buttonEl.style.display =\n",
              "          google.colab.kernel.accessAllowed ? 'block' : 'none';\n",
              "\n",
              "        async function convertToInteractive(key) {\n",
              "          const element = document.querySelector('#df-5d16a283-4698-47f8-8ff9-7163494d3b15');\n",
              "          const dataTable =\n",
              "            await google.colab.kernel.invokeFunction('convertToInteractive',\n",
              "                                                     [key], {});\n",
              "          if (!dataTable) return;\n",
              "\n",
              "          const docLinkHtml = 'Like what you see? Visit the ' +\n",
              "            '<a target=\"_blank\" href=https://colab.research.google.com/notebooks/data_table.ipynb>data table notebook</a>'\n",
              "            + ' to learn more about interactive tables.';\n",
              "          element.innerHTML = '';\n",
              "          dataTable['output_type'] = 'display_data';\n",
              "          await google.colab.output.renderOutput(dataTable, element);\n",
              "          const docLink = document.createElement('div');\n",
              "          docLink.innerHTML = docLinkHtml;\n",
              "          element.appendChild(docLink);\n",
              "        }\n",
              "      </script>\n",
              "    </div>\n",
              "  </div>\n",
              "  "
            ],
            "text/plain": [
              "                                         laptop_names price_list\n",
              "0   acer Aspire 7 Core i5 10th Gen - (8 GB/512 GB ...    ₹52,990\n",
              "1   acer Aspire 7 Ryzen 5 Hexa Core 5500U - (8 GB/...    ₹54,990\n",
              "2   acer Nitro 5 Ryzen 5 Hexa Core 4600H - (8 GB/1...    ₹60,990\n",
              "3   acer NITRO 5 Ryzen 5 Hexa Core 5600H - (8 GB/1...    ₹65,990\n",
              "4   acer Nitro Ryzen 5 Hexa Core 5600H - (8 GB/1 T...    ₹72,990\n",
              "5   acer Predator Helios 300 Core i7 11th Gen - (1...  ₹1,19,990\n",
              "6   acer Predator Helios 300 Octa Core i7 10th Gen...  ₹1,09,990\n",
              "7   acer Nitro 5 Ryzen 7 Octa Core 5800H - (16 GB/...    ₹86,990\n",
              "8   acer Predator Helios 300 Core i7 10th Gen - (1...  ₹1,16,990\n",
              "9   acer Predator Helios 300 Core i7 11th Gen - (1...  ₹1,05,990\n",
              "10  acer Predator Helios 300 Core i7 11th Gen - (1...  ₹1,29,990\n",
              "11  acer Nitro 5 Ryzen 7 Octa Core 5800H - (16 GB/...  ₹1,00,990\n",
              "12  acer Predator Triton 300 Core i7 10th Gen - (1...  ₹1,59,990\n",
              "13  acer Nitro 5 Ryzen 5 Hexa Core 5600H - (16 GB/...    ₹94,850\n",
              "14  acer Predator Helios 300 Core i5 7th Gen - (8 ...  ₹1,29,999\n",
              "15  acer Core i7 6th Gen - (16 GB/1 TB HDD/128 GB ...  ₹1,16,640\n",
              "16  acer Predator Helios 300 Core i9 11th Gen - (3...  ₹1,79,990"
            ]
          },
          "metadata": {},
          "execution_count": 47
        }
      ]
    }
  ]
}